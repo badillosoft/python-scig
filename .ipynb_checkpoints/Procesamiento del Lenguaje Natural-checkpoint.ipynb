{
 "cells": [
  {
   "cell_type": "markdown",
   "metadata": {},
   "source": [
    "# Procesamiento del Lenguaje Natural\n",
    "\n",
    "\n",
    "## Expresiones regulares"
   ]
  },
  {
   "cell_type": "code",
   "execution_count": 1,
   "metadata": {},
   "outputs": [],
   "source": [
    "text = \"id: 123\\nHola mundo\\nid: 564\\nQue bien\\nid: 321\\nMe gusta\"\n",
    "\n",
    "open(\"datos.txt\", \"w\").write(text)"
   ]
  },
  {
   "cell_type": "code",
   "execution_count": 6,
   "metadata": {},
   "outputs": [
    {
     "name": "stdout",
     "output_type": "stream",
     "text": [
      "4:7 -> 123\n",
      "23:26 -> 564\n",
      "40:43 -> 321\n"
     ]
    }
   ],
   "source": [
    "import re\n",
    "\n",
    "pattern = \"id:\\s(\\d+)\"\n",
    "\n",
    "text = open(\"datos.txt\").read()\n",
    "\n",
    "for m in re.finditer(pattern, text):\n",
    "    i = m.start(1)\n",
    "    a = m.group(1)\n",
    "    j = i + len(a)\n",
    "    print(\"{}:{} -> {}\".format(i, j, a))"
   ]
  },
  {
   "cell_type": "code",
   "execution_count": null,
   "metadata": {},
   "outputs": [],
   "source": []
  },
  {
   "cell_type": "code",
   "execution_count": 11,
   "metadata": {},
   "outputs": [
    {
     "name": "stdout",
     "output_type": "stream",
     "text": [
      "wr9RdcOpIGNvbWlkYSB0ZSBndXN0YT8=\n",
      "ensalada\n",
      "No conozco esa comida, ¿Qué tal sabe?\n"
     ]
    }
   ],
   "source": [
    "import re\n",
    "\n",
    "bot = {\n",
    "    \"pizza\": \"A mi también me encanta la pizza\",\n",
    "    \"hamburguesa\": \"No me gusta tanta carne\",\n",
    "    \"taco\": \"te amo\",\n",
    "    \"pozole\": \"Pos orale, vamos\"\n",
    "}\n",
    "\n",
    "default = \"No conozco esa comida, ¿Qué tal sabe?\"\n",
    "\n",
    "text = raw_input(\"¿Qué comida te gusta?\") # Python 3: raw_input => input\n",
    "\n",
    "flag = False\n",
    "\n",
    "for key in bot:\n",
    "    if re.search(key, text.lower()):\n",
    "        print(bot[key])\n",
    "        flag = True\n",
    "\n",
    "if not flag:\n",
    "    print(default)"
   ]
  },
  {
   "cell_type": "code",
   "execution_count": null,
   "metadata": {},
   "outputs": [],
   "source": []
  },
  {
   "cell_type": "code",
   "execution_count": null,
   "metadata": {},
   "outputs": [],
   "source": []
  },
  {
   "cell_type": "code",
   "execution_count": null,
   "metadata": {},
   "outputs": [],
   "source": []
  },
  {
   "cell_type": "code",
   "execution_count": null,
   "metadata": {},
   "outputs": [],
   "source": []
  },
  {
   "cell_type": "code",
   "execution_count": null,
   "metadata": {},
   "outputs": [],
   "source": []
  },
  {
   "cell_type": "code",
   "execution_count": null,
   "metadata": {},
   "outputs": [],
   "source": []
  }
 ],
 "metadata": {
  "kernelspec": {
   "display_name": "Python 2",
   "language": "python",
   "name": "python2"
  },
  "language_info": {
   "codemirror_mode": {
    "name": "ipython",
    "version": 2
   },
   "file_extension": ".py",
   "mimetype": "text/x-python",
   "name": "python",
   "nbconvert_exporter": "python",
   "pygments_lexer": "ipython2",
   "version": "2.7.15"
  }
 },
 "nbformat": 4,
 "nbformat_minor": 2
}
