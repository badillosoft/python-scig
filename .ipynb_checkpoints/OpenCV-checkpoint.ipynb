{
 "cells": [
  {
   "cell_type": "code",
   "execution_count": 1,
   "metadata": {},
   "outputs": [
    {
     "name": "stdout",
     "output_type": "stream",
     "text": [
      "Collecting opencv-python\n",
      "\u001b[?25l  Downloading https://files.pythonhosted.org/packages/65/9e/7f973fe3ee8b71533c09193833194672986b40488a74530720c2d15152a6/opencv_python-3.4.4.19-cp27-cp27m-macosx_10_6_x86_64.macosx_10_9_intel.macosx_10_9_x86_64.macosx_10_10_intel.macosx_10_10_x86_64.whl (48.7MB)\n",
      "\u001b[K    100% |████████████████████████████████| 48.7MB 24kB/s eta 0:00:01███████████████▌       | 37.3MB 198kB/s eta 0:00:58\n",
      "\u001b[?25hRequirement already satisfied: numpy>=1.11.1 in /usr/local/lib/python2.7/site-packages (from opencv-python) (1.15.4)\n",
      "Installing collected packages: opencv-python\n",
      "Successfully installed opencv-python-3.4.4.19\n"
     ]
    }
   ],
   "source": [
    "!pip install opencv-python"
   ]
  },
  {
   "cell_type": "code",
   "execution_count": 4,
   "metadata": {},
   "outputs": [
    {
     "name": "stdout",
     "output_type": "stream",
     "text": [
      "--2018-12-15 13:15:57--  https://upload.wikimedia.org/wikipedia/commons/thumb/c/c3/Python-logo-notext.svg/1024px-Python-logo-notext.svg.png\n",
      "Resolving upload.wikimedia.org... 208.80.153.240\n",
      "Connecting to upload.wikimedia.org|208.80.153.240|:443... connected.\n",
      "HTTP request sent, awaiting response... 200 OK\n",
      "Length: 52166 (51K) [image/png]\n",
      "Saving to: '1024px-Python-logo-notext.svg.png'\n",
      "\n",
      "1024px-Python-logo- 100%[===================>]  50.94K  --.-KB/s    in 0.04s   \n",
      "\n",
      "2018-12-15 13:15:58 (1.38 MB/s) - '1024px-Python-logo-notext.svg.png' saved [52166/52166]\n",
      "\n"
     ]
    }
   ],
   "source": [
    "!wget https://upload.wikimedia.org/wikipedia/commons/thumb/c/c3/Python-logo-notext.svg/1024px-Python-logo-notext.svg.png"
   ]
  },
  {
   "cell_type": "code",
   "execution_count": 6,
   "metadata": {},
   "outputs": [
    {
     "name": "stdout",
     "output_type": "stream",
     "text": [
      "Dimensiones: 1024x1024 en 3 canales\n"
     ]
    }
   ],
   "source": [
    "import cv2\n",
    "\n",
    "im = cv2.imread(\"logo.png\")\n",
    "\n",
    "h, w, c = im.shape\n",
    "\n",
    "print(\"Dimensiones: {}x{} en {} canales\".format(w, h, c))"
   ]
  },
  {
   "cell_type": "code",
   "execution_count": 10,
   "metadata": {},
   "outputs": [
    {
     "data": {
      "image/png": "[encoded data removed]",
      "text/plain": [
       "<Figure size 432x288 with 1 Axes>"
      ]
     },
     "metadata": {
      "needs_background": "light"
     },
     "output_type": "display_data"
    }
   ],
   "source": [
    "import cv2\n",
    "import matplotlib.pyplot as plt\n",
    "\n",
    "im = cv2.imread(\"logo.png\")\n",
    "\n",
    "im = cv2.cvtColor(im, cv2.COLOR_BGR2RGB)\n",
    "\n",
    "h, w, c = im.shape\n",
    "\n",
    "plt.axis(\"off\")\n",
    "\n",
    "plt.imshow(im)\n",
    "\n",
    "plt.show()"
   ]
  },
  {
   "cell_type": "code",
   "execution_count": 22,
   "metadata": {},
   "outputs": [
    {
     "data": {
      "image/png": "[encoded data removed]",
      "text/plain": [
       "<Figure size 432x288 with 1 Axes>"
      ]
     },
     "metadata": {
      "needs_background": "light"
     },
     "output_type": "display_data"
    }
   ],
   "source": [
    "import cv2\n",
    "import matplotlib.pyplot as plt\n",
    "import numpy as np\n",
    "\n",
    "im = cv2.imread(\"logo.png\")\n",
    "\n",
    "im_hsv = cv2.cvtColor(im, cv2.COLOR_BGR2HSV)\n",
    "\n",
    "lower = np.array((20, 50, 50))\n",
    "upper = np.array((40, 255, 255))\n",
    "\n",
    "mask = cv2.inRange(im_hsv, lower, upper)\n",
    "\n",
    "im_res = cv2.bitwise_and(im, im, mask=mask)\n",
    "\n",
    "plt.axis(\"off\")\n",
    "\n",
    "plt.imshow(cv2.cvtColor(im_res, cv2.COLOR_BGR2RGB))\n",
    "\n",
    "plt.show()"
   ]
  }
 ],
 "metadata": {
  "kernelspec": {
   "display_name": "Python 2",
   "language": "python",
   "name": "python2"
  },
  "language_info": {
   "codemirror_mode": {
    "name": "ipython",
    "version": 2
   },
   "file_extension": ".py",
   "mimetype": "text/x-python",
   "name": "python",
   "nbconvert_exporter": "python",
   "pygments_lexer": "ipython2",
   "version": "2.7.15"
  }
 },
 "nbformat": 4,
 "nbformat_minor": 2
}
