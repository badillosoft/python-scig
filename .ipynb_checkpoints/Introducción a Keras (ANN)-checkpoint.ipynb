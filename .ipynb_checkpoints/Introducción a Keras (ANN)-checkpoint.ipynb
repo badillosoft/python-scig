{
 "cells": [
  {
   "cell_type": "markdown",
   "metadata": {},
   "source": [
    "# Predecir la calidad del Vino blanco\n",
    "\n",
    "En este estudio analizaremos la calidad del vino blanco mediante factores propios del vino como el PH, análisis de azúcar y oxígeno realizados al vino para determinar que tan bueno es dicho vino en una puntuación de 0 a 10. Las muestra de entrenamiento fueron recolectadas de https://archive.ics.uci.edu/ml/datasets/Wine+Quality.\n",
    "\n",
    "Trabajaremos este estudio mediante las librerías de Pandas para la adquisición y preprocesamiento de datos, Keras para el análisis y aprendizaje y Matplotlib para la graficación."
   ]
  },
  {
   "cell_type": "markdown",
   "metadata": {},
   "source": [
    "## Fase de Adquisición de datos"
   ]
  },
  {
   "cell_type": "code",
   "execution_count": 2,
   "metadata": {},
   "outputs": [
    {
     "name": "stdout",
     "output_type": "stream",
     "text": [
      "<class 'pandas.core.frame.DataFrame'>\n",
      "RangeIndex: 4898 entries, 0 to 4897\n",
      "Data columns (total 12 columns):\n",
      "fixed acidity           4898 non-null float64\n",
      "volatile acidity        4898 non-null float64\n",
      "citric acid             4898 non-null float64\n",
      "residual sugar          4898 non-null float64\n",
      "chlorides               4898 non-null float64\n",
      "free sulfur dioxide     4898 non-null float64\n",
      "total sulfur dioxide    4898 non-null float64\n",
      "density                 4898 non-null float64\n",
      "pH                      4898 non-null float64\n",
      "sulphates               4898 non-null float64\n",
      "alcohol                 4898 non-null float64\n",
      "quality                 4898 non-null int64\n",
      "dtypes: float64(11), int64(1)\n",
      "memory usage: 459.3 KB\n",
      "None\n"
     ]
    }
   ],
   "source": [
    "import pandas as pd\n",
    "\n",
    "url = \"http://badillosoft.com/winequality-white.csv\"\n",
    "\n",
    "df = pd.read_csv(url, sep=\";\")\n",
    "\n",
    "print(df.info())"
   ]
  },
  {
   "cell_type": "code",
   "execution_count": 3,
   "metadata": {},
   "outputs": [
    {
     "name": "stdout",
     "output_type": "stream",
     "text": [
      "   fixed acidity  volatile acidity  citric acid  residual sugar  chlorides  \\\n",
      "0            7.0              0.27         0.36            20.7      0.045   \n",
      "1            6.3              0.30         0.34             1.6      0.049   \n",
      "2            8.1              0.28         0.40             6.9      0.050   \n",
      "3            7.2              0.23         0.32             8.5      0.058   \n",
      "4            7.2              0.23         0.32             8.5      0.058   \n",
      "\n",
      "   free sulfur dioxide  total sulfur dioxide  density    pH  sulphates  \\\n",
      "0                 45.0                 170.0   1.0010  3.00       0.45   \n",
      "1                 14.0                 132.0   0.9940  3.30       0.49   \n",
      "2                 30.0                  97.0   0.9951  3.26       0.44   \n",
      "3                 47.0                 186.0   0.9956  3.19       0.40   \n",
      "4                 47.0                 186.0   0.9956  3.19       0.40   \n",
      "\n",
      "   alcohol  quality  \n",
      "0      8.8        6  \n",
      "1      9.5        6  \n",
      "2     10.1        6  \n",
      "3      9.9        6  \n",
      "4      9.9        6  \n"
     ]
    }
   ],
   "source": [
    "print(df.head())"
   ]
  },
  {
   "cell_type": "markdown",
   "metadata": {},
   "source": [
    "## Fase de inspección de datos"
   ]
  },
  {
   "cell_type": "code",
   "execution_count": 6,
   "metadata": {},
   "outputs": [
    {
     "data": {
      "image/png": "[encoded data removed]",
      "text/plain": [
       "<Figure size 432x288 with 1 Axes>"
      ]
     },
     "metadata": {
      "needs_background": "light"
     },
     "output_type": "display_data"
    }
   ],
   "source": [
    "import matplotlib.pyplot as plt\n",
    "\n",
    "plt.plot(df[\"quality\"].index, df[\"quality\"], \"*\")\n",
    "\n",
    "plt.show()"
   ]
  },
  {
   "cell_type": "code",
   "execution_count": 10,
   "metadata": {},
   "outputs": [
    {
     "data": {
      "image/png": "[encoded data removed]",
      "text/plain": [
       "<Figure size 432x288 with 1 Axes>"
      ]
     },
     "metadata": {
      "needs_background": "light"
     },
     "output_type": "display_data"
    }
   ],
   "source": [
    "plt.hist(df[\"quality\"], 15)\n",
    "\n",
    "plt.show()"
   ]
  },
  {
   "cell_type": "markdown",
   "metadata": {},
   "source": [
    "## Fase de Entrenamiento"
   ]
  },
  {
   "cell_type": "code",
   "execution_count": 11,
   "metadata": {},
   "outputs": [
    {
     "name": "stdout",
     "output_type": "stream",
     "text": [
      "Se utilizarán 4408/4898 muestras para el entrenamiento\n"
     ]
    }
   ],
   "source": [
    "# Definimos k como el número de muestras utilizas para el entrenamiento\n",
    "n = len(df)\n",
    "k = int(n * 0.9)\n",
    "\n",
    "print(\"Se utilizarán {}/{} muestras para el entrenamiento\".format(k, n))"
   ]
  },
  {
   "cell_type": "code",
   "execution_count": 32,
   "metadata": {},
   "outputs": [
    {
     "name": "stdout",
     "output_type": "stream",
     "text": [
      "Muestras de entrenamiento (características)\n",
      "[[ 7.    0.27  0.36 ...  3.    0.45  8.8 ]\n",
      " [ 6.3   0.3   0.34 ...  3.3   0.49  9.5 ]\n",
      " [ 8.1   0.28  0.4  ...  3.26  0.44 10.1 ]\n",
      " ...\n",
      " [ 5.9   0.29  0.16 ...  3.21  0.36  9.4 ]\n",
      " [ 6.3   0.29  0.29 ...  3.17  0.36 12.8 ]\n",
      " [ 6.3   0.19  0.32 ...  2.92  0.47 11.05]]\n",
      "Muestras de validación (características)\n",
      "[[ 5.7         0.29        0.16       ...  3.21        0.36\n",
      "   9.4       ]\n",
      " [ 6.3         0.29        0.29       ...  3.17        0.36\n",
      "  12.8       ]\n",
      " [ 5.7         0.24        0.47       ...  3.11        0.46\n",
      "   9.73333333]\n",
      " ...\n",
      " [ 6.5         0.24        0.19       ...  2.99        0.46\n",
      "   9.4       ]\n",
      " [ 5.5         0.29        0.3        ...  3.34        0.38\n",
      "  12.8       ]\n",
      " [ 6.          0.21        0.38       ...  3.26        0.32\n",
      "  11.8       ]]\n"
     ]
    }
   ],
   "source": [
    "x_columns = [\"fixed acidity\", \"volatile acidity\", \n",
    "             \"citric acid\", \"residual sugar\",\n",
    "            \"chlorides\", \"free sulfur dioxide\",\n",
    "            \"total sulfur dioxide\", \"density\",\n",
    "            \"pH\", \"sulphates\", \"alcohol\"]\n",
    "\n",
    "x = pd.DataFrame(df, columns=x_columns)\n",
    "\n",
    "x_train = x[:k].values # [0 -> k - 1] |k| 90%\n",
    "x_test = x[k:].values # [k -> n - 1] |n - k| 10%\n",
    "\n",
    "print(\"Muestras de entrenamiento (características)\")\n",
    "print(x_train)\n",
    "print(\"Muestras de validación (características)\")\n",
    "print(x_test)"
   ]
  },
  {
   "cell_type": "code",
   "execution_count": 33,
   "metadata": {},
   "outputs": [
    {
     "name": "stdout",
     "output_type": "stream",
     "text": [
      "Muestras de entrenamiento (objetivos)\n",
      "[6 6 6 ... 5 7 6]\n",
      "Muestras de validación (objetivos)\n",
      "[5 7 5 7 7 7 7 5 5 6 6 6 6 6 6 6 6 6 6 5 6 6 5 6 6 5 6 6 6 6 5 5 5 6 5 5 6\n",
      " 6 6 6 5 6 6 5 5 6 6 5 5 5 7 5 6 6 6 6 5 5 5 5 6 6 6 6 5 5 6 6 6 5 5 5 5 5\n",
      " 6 4 5 6 6 6 6 6 6 6 6 6 6 6 6 5 5 6 6 6 6 7 5 5 6 5 4 5 6 6 6 6 5 6 6 6 6\n",
      " 6 5 5 6 5 6 6 6 6 6 6 6 6 6 5 6 6 6 5 6 5 6 6 5 5 6 6 6 6 5 5 6 6 6 6 6 5\n",
      " 5 6 6 7 6 6 7 7 7 5 5 5 6 6 6 7 7 6 7 7 5 6 7 6 6 6 6 6 6 6 6 6 5 6 6 6 6\n",
      " 6 6 6 6 6 6 7 6 6 6 6 6 6 5 6 7 4 6 5 5 5 5 7 5 7 7 5 6 7 7 6 6 5 6 6 6 7\n",
      " 7 7 6 6 6 6 5 6 5 6 6 6 7 6 6 7 7 7 5 5 5 7 5 7 7 7 7 7 6 6 6 5 6 7 7 6 5\n",
      " 7 7 5 6 5 5 7 7 6 6 7 6 5 4 6 6 6 6 5 4 6 6 6 6 7 5 6 7 7 6 7 6 5 5 6 6 7\n",
      " 6 6 7 6 6 6 7 6 6 6 7 6 6 6 6 6 5 6 6 6 6 6 6 6 6 5 5 6 6 6 6 6 6 7 6 6 5\n",
      " 6 6 5 5 3 6 6 5 6 5 6 7 6 6 6 7 7 6 6 6 6 7 7 6 8 8 7 6 6 6 6 5 7 4 6 6 6\n",
      " 6 4 5 5 6 6 5 7 8 8 5 6 6 6 6 6 5 7 7 6 5 6 7 7 8 7 4 6 6 6 5 6 5 6 7 5 6\n",
      " 7 6 6 6 6 5 6 6 7 5 6 6 6 5 7 6 6 5 6 7 6 5 6 6 4 7 6 6 5 6 5 6 7 6 5 6 5\n",
      " 5 5 6 6 6 6 5 6 6 6 6 7 5 6 6 6 6 6 7 6 5 6 6 6 7 5 4 6 6 6 5 6 5 6 7 7 5\n",
      " 6 6 6 5 6 5 6 7 6]\n"
     ]
    }
   ],
   "source": [
    "y = df[\"quality\"]\n",
    "\n",
    "y_train = y[:k].values\n",
    "y_test = y[k:].values\n",
    "\n",
    "print(\"Muestras de entrenamiento (objetivos)\")\n",
    "print(y_train)\n",
    "print(\"Muestras de validación (objetivos)\")\n",
    "print(y_test)"
   ]
  },
  {
   "cell_type": "code",
   "execution_count": null,
   "metadata": {},
   "outputs": [],
   "source": []
  },
  {
   "cell_type": "code",
   "execution_count": 44,
   "metadata": {},
   "outputs": [
    {
     "name": "stdout",
     "output_type": "stream",
     "text": [
      "Epoch 1/100\n",
      "4408/4408 [==============================] - 1s 178us/step - loss: 11.9387 - acc: 0.0227\n",
      "Epoch 2/100\n",
      "4408/4408 [==============================] - 0s 51us/step - loss: 4.0426 - acc: 0.0647\n",
      "Epoch 3/100\n",
      "4408/4408 [==============================] - 0s 76us/step - loss: 3.2313 - acc: 0.0737\n",
      "Epoch 4/100\n",
      "4408/4408 [==============================] - 0s 55us/step - loss: 3.1313 - acc: 0.0780\n",
      "Epoch 5/100\n",
      "4408/4408 [==============================] - 0s 43us/step - loss: 3.0019 - acc: 0.0824\n",
      "Epoch 6/100\n",
      "4408/4408 [==============================] - 0s 75us/step - loss: 2.8470 - acc: 0.0951\n",
      "Epoch 7/100\n",
      "4408/4408 [==============================] - 0s 68us/step - loss: 2.6601 - acc: 0.1041\n",
      "Epoch 8/100\n",
      "4408/4408 [==============================] - 0s 54us/step - loss: 2.4399 - acc: 0.1075\n",
      "Epoch 9/100\n",
      "4408/4408 [==============================] - 0s 59us/step - loss: 2.1913 - acc: 0.1250\n",
      "Epoch 10/100\n",
      "4408/4408 [==============================] - 0s 68us/step - loss: 1.9081 - acc: 0.1397\n",
      "Epoch 11/100\n",
      "4408/4408 [==============================] - 0s 67us/step - loss: 1.5894 - acc: 0.1593\n",
      "Epoch 12/100\n",
      "4408/4408 [==============================] - 0s 56us/step - loss: 1.2415 - acc: 0.1899\n",
      "Epoch 13/100\n",
      "4408/4408 [==============================] - 0s 46us/step - loss: 0.9061 - acc: 0.2341\n",
      "Epoch 14/100\n",
      "4408/4408 [==============================] - 0s 58us/step - loss: 0.6232 - acc: 0.2997\n",
      "Epoch 15/100\n",
      "4408/4408 [==============================] - 0s 69us/step - loss: 0.4321 - acc: 0.3723\n",
      "Epoch 16/100\n",
      "4408/4408 [==============================] - 0s 50us/step - loss: 0.3333 - acc: 0.4272\n",
      "Epoch 17/100\n",
      "4408/4408 [==============================] - 0s 58us/step - loss: 0.2964 - acc: 0.4535\n",
      "Epoch 18/100\n",
      "4408/4408 [==============================] - 0s 69us/step - loss: 0.2849 - acc: 0.4585\n",
      "Epoch 19/100\n",
      "4408/4408 [==============================] - 0s 81us/step - loss: 0.2802 - acc: 0.4662\n",
      "Epoch 20/100\n",
      "4408/4408 [==============================] - 0s 79us/step - loss: 0.2782 - acc: 0.4662\n",
      "Epoch 21/100\n",
      "4408/4408 [==============================] - 0s 52us/step - loss: 0.2779 - acc: 0.4657\n",
      "Epoch 22/100\n",
      "4408/4408 [==============================] - 0s 57us/step - loss: 0.2762 - acc: 0.4651\n",
      "Epoch 23/100\n",
      "4408/4408 [==============================] - ETA: 0s - loss: 0.2763 - acc: 0.465 - 0s 44us/step - loss: 0.2737 - acc: 0.4669\n",
      "Epoch 24/100\n",
      "4408/4408 [==============================] - 0s 53us/step - loss: 0.2728 - acc: 0.4719\n",
      "Epoch 25/100\n",
      "4408/4408 [==============================] - 0s 75us/step - loss: 0.2718 - acc: 0.4667\n",
      "Epoch 26/100\n",
      "4408/4408 [==============================] - 0s 62us/step - loss: 0.2691 - acc: 0.4757\n",
      "Epoch 27/100\n",
      "4408/4408 [==============================] - 0s 41us/step - loss: 0.2686 - acc: 0.4791\n",
      "Epoch 28/100\n",
      "4408/4408 [==============================] - 0s 48us/step - loss: 0.2659 - acc: 0.4741\n",
      "Epoch 29/100\n",
      "4408/4408 [==============================] - 0s 50us/step - loss: 0.2654 - acc: 0.4735\n",
      "Epoch 30/100\n",
      "4408/4408 [==============================] - 0s 72us/step - loss: 0.2635 - acc: 0.4773\n",
      "Epoch 31/100\n",
      "4408/4408 [==============================] - 0s 57us/step - loss: 0.2614 - acc: 0.4807\n",
      "Epoch 32/100\n",
      "4408/4408 [==============================] - 0s 62us/step - loss: 0.2642 - acc: 0.4803\n",
      "Epoch 33/100\n",
      "4408/4408 [==============================] - 0s 69us/step - loss: 0.2593 - acc: 0.4807\n",
      "Epoch 34/100\n",
      "4408/4408 [==============================] - 0s 44us/step - loss: 0.2598 - acc: 0.4794\n",
      "Epoch 35/100\n",
      "4408/4408 [==============================] - 0s 73us/step - loss: 0.2580 - acc: 0.4834\n",
      "Epoch 36/100\n",
      "4408/4408 [==============================] - 0s 50us/step - loss: 0.2572 - acc: 0.4828\n",
      "Epoch 37/100\n",
      "4408/4408 [==============================] - 0s 41us/step - loss: 0.2568 - acc: 0.4877\n",
      "Epoch 38/100\n",
      "4408/4408 [==============================] - 0s 39us/step - loss: 0.2546 - acc: 0.4902\n",
      "Epoch 39/100\n",
      "4408/4408 [==============================] - 0s 46us/step - loss: 0.2526 - acc: 0.4850\n",
      "Epoch 40/100\n",
      "4408/4408 [==============================] - 0s 39us/step - loss: 0.2535 - acc: 0.4848\n",
      "Epoch 41/100\n",
      "4408/4408 [==============================] - 0s 85us/step - loss: 0.2511 - acc: 0.4952: 0s - loss: 0.2505 - acc: 0.48\n",
      "Epoch 42/100\n",
      "4408/4408 [==============================] - 0s 34us/step - loss: 0.2529 - acc: 0.4891\n",
      "Epoch 43/100\n",
      "4408/4408 [==============================] - 0s 46us/step - loss: 0.2520 - acc: 0.4891\n",
      "Epoch 44/100\n",
      "4408/4408 [==============================] - 0s 66us/step - loss: 0.2499 - acc: 0.4914\n",
      "Epoch 45/100\n",
      "4408/4408 [==============================] - 0s 98us/step - loss: 0.2532 - acc: 0.4893\n",
      "Epoch 46/100\n",
      "4408/4408 [==============================] - 0s 95us/step - loss: 0.2518 - acc: 0.4936\n",
      "Epoch 47/100\n",
      "4408/4408 [==============================] - 0s 82us/step - loss: 0.2492 - acc: 0.5000\n",
      "Epoch 48/100\n",
      "4408/4408 [==============================] - 0s 71us/step - loss: 0.2481 - acc: 0.4914\n",
      "Epoch 49/100\n",
      "4408/4408 [==============================] - 0s 77us/step - loss: 0.2508 - acc: 0.4959\n",
      "Epoch 50/100\n",
      "4408/4408 [==============================] - 0s 42us/step - loss: 0.2481 - acc: 0.4912\n",
      "Epoch 51/100\n",
      "4408/4408 [==============================] - 0s 75us/step - loss: 0.2453 - acc: 0.5011\n",
      "Epoch 52/100\n",
      "4408/4408 [==============================] - 0s 89us/step - loss: 0.2455 - acc: 0.5020\n",
      "Epoch 53/100\n",
      "4408/4408 [==============================] - 0s 80us/step - loss: 0.2460 - acc: 0.4986\n",
      "Epoch 54/100\n",
      "4408/4408 [==============================] - 0s 75us/step - loss: 0.2459 - acc: 0.5005\n",
      "Epoch 55/100\n",
      "4408/4408 [==============================] - 0s 102us/step - loss: 0.2442 - acc: 0.5009\n",
      "Epoch 56/100\n",
      "4408/4408 [==============================] - 0s 71us/step - loss: 0.2432 - acc: 0.4995\n",
      "Epoch 57/100\n",
      "4408/4408 [==============================] - 0s 95us/step - loss: 0.2435 - acc: 0.5000\n",
      "Epoch 58/100\n",
      "4408/4408 [==============================] - 0s 93us/step - loss: 0.2438 - acc: 0.5023\n",
      "Epoch 59/100\n",
      "4408/4408 [==============================] - 0s 91us/step - loss: 0.2433 - acc: 0.5052\n",
      "Epoch 60/100\n",
      "4408/4408 [==============================] - 0s 76us/step - loss: 0.2457 - acc: 0.4982\n",
      "Epoch 61/100\n",
      "4408/4408 [==============================] - 0s 53us/step - loss: 0.2421 - acc: 0.5043\n",
      "Epoch 62/100\n",
      "4408/4408 [==============================] - 0s 40us/step - loss: 0.2417 - acc: 0.5064\n",
      "Epoch 63/100\n",
      "4408/4408 [==============================] - 0s 52us/step - loss: 0.2432 - acc: 0.5002\n",
      "Epoch 64/100\n",
      "4408/4408 [==============================] - 0s 89us/step - loss: 0.2440 - acc: 0.5018\n",
      "Epoch 65/100\n",
      "4408/4408 [==============================] - 0s 48us/step - loss: 0.2410 - acc: 0.5073\n",
      "Epoch 66/100\n",
      "4408/4408 [==============================] - 0s 62us/step - loss: 0.2433 - acc: 0.5039\n",
      "Epoch 67/100\n",
      "4408/4408 [==============================] - 0s 90us/step - loss: 0.2422 - acc: 0.4995\n",
      "Epoch 68/100\n",
      "4408/4408 [==============================] - 0s 74us/step - loss: 0.2420 - acc: 0.4995\n",
      "Epoch 69/100\n",
      "4408/4408 [==============================] - 0s 65us/step - loss: 0.2415 - acc: 0.5059\n",
      "Epoch 70/100\n",
      "4408/4408 [==============================] - 0s 79us/step - loss: 0.2396 - acc: 0.5059\n",
      "Epoch 71/100\n",
      "4408/4408 [==============================] - 0s 77us/step - loss: 0.2412 - acc: 0.5120\n",
      "Epoch 72/100\n",
      "4408/4408 [==============================] - 0s 68us/step - loss: 0.2405 - acc: 0.5079\n",
      "Epoch 73/100\n",
      "4408/4408 [==============================] - 0s 38us/step - loss: 0.2435 - acc: 0.5000\n",
      "Epoch 74/100\n",
      "4408/4408 [==============================] - 0s 89us/step - loss: 0.2419 - acc: 0.4973\n",
      "Epoch 75/100\n",
      "4408/4408 [==============================] - 0s 69us/step - loss: 0.2401 - acc: 0.5166\n",
      "Epoch 76/100\n",
      "4408/4408 [==============================] - 0s 69us/step - loss: 0.2410 - acc: 0.5132\n",
      "Epoch 77/100\n",
      "4408/4408 [==============================] - 0s 85us/step - loss: 0.2395 - acc: 0.5086\n",
      "Epoch 78/100\n",
      "4408/4408 [==============================] - 0s 90us/step - loss: 0.2389 - acc: 0.5129\n",
      "Epoch 79/100\n",
      "4408/4408 [==============================] - 0s 42us/step - loss: 0.2433 - acc: 0.4989\n",
      "Epoch 80/100\n",
      "4408/4408 [==============================] - 0s 93us/step - loss: 0.2404 - acc: 0.5084\n",
      "Epoch 81/100\n",
      "4408/4408 [==============================] - 0s 95us/step - loss: 0.2407 - acc: 0.5141\n",
      "Epoch 82/100\n"
     ]
    },
    {
     "name": "stdout",
     "output_type": "stream",
     "text": [
      "4408/4408 [==============================] - 0s 57us/step - loss: 0.2394 - acc: 0.5039\n",
      "Epoch 83/100\n",
      "4408/4408 [==============================] - 0s 66us/step - loss: 0.2399 - acc: 0.5118: 0s - loss: 0.2367 - acc: 0.5\n",
      "Epoch 84/100\n",
      "4408/4408 [==============================] - 0s 94us/step - loss: 0.2396 - acc: 0.5098\n",
      "Epoch 85/100\n",
      "4408/4408 [==============================] - 0s 72us/step - loss: 0.2405 - acc: 0.5095\n",
      "Epoch 86/100\n",
      "4408/4408 [==============================] - 0s 55us/step - loss: 0.2383 - acc: 0.5123\n",
      "Epoch 87/100\n",
      "4408/4408 [==============================] - 0s 49us/step - loss: 0.2378 - acc: 0.5134\n",
      "Epoch 88/100\n",
      "4408/4408 [==============================] - 0s 49us/step - loss: 0.2384 - acc: 0.5134\n",
      "Epoch 89/100\n",
      "4408/4408 [==============================] - 0s 40us/step - loss: 0.2426 - acc: 0.5098\n",
      "Epoch 90/100\n",
      "4408/4408 [==============================] - 0s 81us/step - loss: 0.2399 - acc: 0.5095\n",
      "Epoch 91/100\n",
      "4408/4408 [==============================] - 0s 67us/step - loss: 0.2417 - acc: 0.5075\n",
      "Epoch 92/100\n",
      "4408/4408 [==============================] - 0s 74us/step - loss: 0.2407 - acc: 0.5088\n",
      "Epoch 93/100\n",
      "4408/4408 [==============================] - 0s 77us/step - loss: 0.2424 - acc: 0.5045\n",
      "Epoch 94/100\n",
      "4408/4408 [==============================] - 0s 56us/step - loss: 0.2388 - acc: 0.5138\n",
      "Epoch 95/100\n",
      "4408/4408 [==============================] - 0s 70us/step - loss: 0.2379 - acc: 0.5068\n",
      "Epoch 96/100\n",
      "4408/4408 [==============================] - 0s 67us/step - loss: 0.2392 - acc: 0.5152\n",
      "Epoch 97/100\n",
      "4408/4408 [==============================] - 0s 56us/step - loss: 0.2378 - acc: 0.5100\n",
      "Epoch 98/100\n",
      "4408/4408 [==============================] - 0s 41us/step - loss: 0.2397 - acc: 0.5082\n",
      "Epoch 99/100\n",
      "4408/4408 [==============================] - 0s 69us/step - loss: 0.2388 - acc: 0.5111\n",
      "Epoch 100/100\n",
      "4408/4408 [==============================] - 0s 59us/step - loss: 0.2368 - acc: 0.5147\n"
     ]
    },
    {
     "data": {
      "text/plain": [
       "<keras.callbacks.History at 0x12c1bdfd0>"
      ]
     },
     "execution_count": 44,
     "metadata": {},
     "output_type": "execute_result"
    }
   ],
   "source": [
    "from keras.models import Sequential\n",
    "from keras.layers import Dense\n",
    "\n",
    "model = Sequential()\n",
    "\n",
    "#model.add(Dense(units=6, activation=\"tanh\", input_dim=11))\n",
    "model.add(Dense(units=1, activation=\"relu\", input_dim=11))\n",
    "# 11 -> 6 -> 1\n",
    "\n",
    "model.compile(optimizer=\"adam\", loss=\"logcosh\",\n",
    "              metrics=[\"accuracy\"])\n",
    "\n",
    "model.fit(x_train, y_train, batch_size=64, epochs=100)"
   ]
  },
  {
   "cell_type": "code",
   "execution_count": 38,
   "metadata": {},
   "outputs": [
    {
     "name": "stdout",
     "output_type": "stream",
     "text": [
      "_________________________________________________________________\n",
      "Layer (type)                 Output Shape              Param #   \n",
      "=================================================================\n",
      "dense_28 (Dense)             (None, 1)                 12        \n",
      "=================================================================\n",
      "Total params: 12\n",
      "Trainable params: 12\n",
      "Non-trainable params: 0\n",
      "_________________________________________________________________\n",
      "None\n"
     ]
    }
   ],
   "source": [
    "print(model.summary())"
   ]
  },
  {
   "cell_type": "code",
   "execution_count": 45,
   "metadata": {},
   "outputs": [
    {
     "name": "stdout",
     "output_type": "stream",
     "text": [
      "490/490 [==============================] - 0s 459us/step\n",
      "[0.19305439743460442, 0.5183673462089227]\n"
     ]
    }
   ],
   "source": [
    "metrics = model.evaluate(x_test, y_test, batch_size=64)\n",
    "\n",
    "print(metrics)"
   ]
  },
  {
   "cell_type": "code",
   "execution_count": 48,
   "metadata": {},
   "outputs": [
    {
     "name": "stdout",
     "output_type": "stream",
     "text": [
      "[5.488691  6.689885  5.552779  6.9499335 6.359552  6.9499335 6.359552\n",
      " 5.438483  5.559606  5.8225913 5.5405    5.5405    5.5405    5.5405\n",
      " 5.8225913 5.8225913 5.5405    5.7469153 5.73884   5.6477404 6.3393207\n",
      " 6.1198463 5.3234267 6.7612205 6.6783013 5.340651  6.044811  6.277629\n",
      " 6.4541335 6.284456  5.9780965 5.22059   5.37652   6.560119  5.37652\n",
      " 5.22059   6.189338  6.189338  6.745411  6.3120546 5.745851  6.2688546\n",
      " 6.003016  5.5822616 5.5312552 6.3120546 5.599047  5.5830812 5.5830812\n",
      " 5.5830812 6.6853213 5.7567406 5.599047  5.8834667 6.854543  6.4886084\n",
      " 5.6169715 5.6169715 6.0967507 5.9004774 6.2798595 6.08979   6.563418\n",
      " 6.585214  6.0129194 5.247832  5.9899087 6.789325  6.834843  5.6310678\n",
      " 5.6310678 4.8639956 7.3472705 5.6310678 6.552567  5.281031  4.863431\n",
      " 6.623718  5.704147  6.414089  6.5372386 6.5372386 6.256126  6.8332334\n",
      " 6.722323  6.056163  6.167695  6.393704  6.167695  5.460584  6.0518565\n",
      " 6.4647293 6.0560327 5.9204917 6.1820335 7.2005916 5.7953706 5.8847404\n",
      " 6.367457  6.562135  6.5380006 5.300385  7.004048  6.604681  6.604681\n",
      " 5.90367   4.9951234 6.265655  6.5805163 5.585181  5.4823656 6.631212\n",
      " 5.6807094 5.4110446 5.4823656 6.145247  6.064656  6.631212  6.8105426\n",
      " 5.585181  4.907065  5.629573  5.623389  5.623389  6.3395047 6.027276\n",
      " 6.5466704 5.6375356 5.633225  5.5883083 6.103607  6.2003365 6.915441\n",
      " 6.7191243 6.127522  6.127522  6.915441  6.8794913 6.5232854 6.1615214\n",
      " 6.1428895 6.127522  5.9906754 6.024568  6.82451   6.9151587 6.7191243\n",
      " 5.34526   6.539141  5.8100114 6.256518  6.171672  7.328908  6.3638296\n",
      " 6.3120966 6.1117215 5.9714284 6.25931   6.5489755 6.25931   6.404202\n",
      " 5.380687  6.041499  6.680069  6.909777  6.521541  7.149879  6.4119434\n",
      " 6.037952  5.965157  6.7566247 5.9423923 5.591987  6.1255493 6.0435205\n",
      " 5.571874  5.9272    6.600477  6.5231085 6.2533    6.158538  6.5231085\n",
      " 6.1779237 5.9079576 6.277797  6.1604304 6.636952  5.939477  6.734842\n",
      " 5.765072  6.1604304 6.279385  5.569851  6.1755157 5.645384  6.038264\n",
      " 6.250767  6.5601535 6.057426  6.2352667 6.5013356 5.425491  5.672344\n",
      " 5.794033  5.673487  5.7033463 5.222575  6.0994406 5.891564  6.8900647\n",
      " 6.1130943 4.7671967 5.9982433 6.22065   6.715927  6.7213554 6.7463064\n",
      " 5.6869316 6.589993  6.060534  6.060534  6.136871  6.174626  6.140091\n",
      " 6.589993  6.1814547 6.4398437 5.7359157 5.6475368 6.448734  5.6611905\n",
      " 5.9665027 6.45556   6.271254  6.643299  5.8944187 6.5914087 6.9710016\n",
      " 6.0148063 6.291287  4.846618  5.265944  5.2656617 7.043177  5.46126\n",
      " 6.573417  6.366473  6.366473  6.366473  6.380127  6.929145  5.988108\n",
      " 6.554933  6.0847673 6.925004  5.989776  6.0101743 6.925004  5.268217\n",
      " 6.017001  5.996603  5.954324  5.546228  6.0638103 6.0638103 6.5623384\n",
      " 6.3875175 6.289998  5.7480702 6.5623384 5.546228  6.0769    5.1383314\n",
      " 6.7420917 6.0777726 6.3710475 6.404508  5.989448  5.1383314 5.2664256\n",
      " 5.2664256 5.2664256 5.2664256 5.6788573 5.008912  5.2664256 5.6788573\n",
      " 6.9392486 7.1568694 6.9392486 5.1368484 5.9413    5.9413    5.280017\n",
      " 5.280017  6.242969  5.5864987 5.968762  6.213146  6.305958  5.8372602\n",
      " 6.9515214 6.4986596 6.305393  5.968762  6.0257826 6.213146  5.7846475\n",
      " 5.820083  5.865998  5.742143  5.7846475 6.449993  5.9246497 5.5113645\n",
      " 5.6026807 5.9246497 6.0384464 6.582006  5.5113645 6.1074934 5.7004476\n",
      " 6.2333546 6.6757956 6.6757956 6.002022  6.4839406 6.0162435 6.017737\n",
      " 6.741513  6.7862344 6.4907675 5.5251493 6.1106033 6.015014  6.4930234\n",
      " 5.873545  7.7105255 5.5639815 6.065026  5.630016  5.592204  6.4930234\n",
      " 6.0065527 6.6872745 6.8501153 5.8611436 6.507531  7.0525913 7.0525913\n",
      " 6.3674483 5.884963  5.884963  5.643802  6.170713  6.4285254 6.288262\n",
      " 6.8715777 6.6068063 5.4151416 5.965933  5.965933  5.965933  5.965933\n",
      " 5.412393  6.3995094 5.8938756 5.7386765 5.76572   6.6039996 6.071737\n",
      " 5.5200725 5.562677  5.581636  5.3819203 5.3819203 6.042763  6.2269297\n",
      " 6.8044367 6.9498897 6.042763  6.539819  6.134256  5.3819203 6.9000235\n",
      " 5.464577  5.4341745 6.1815224 6.1815224 6.530967  5.992911  5.9051623\n",
      " 6.4644117 6.1815224 6.6899996 6.5538354 6.1948    5.366835  5.6068954\n",
      " 6.273522  5.9054046 6.083384  5.2194552 6.3393297 6.34425   5.4440956\n",
      " 6.5216346 6.731192  5.977942  6.1506534 7.099873  6.5216346 5.4440956\n",
      " 5.9155054 6.152844  6.392029  5.7022233 6.0535407 6.0535407 6.4058356\n",
      " 5.7022233 6.508297  5.8399577 5.233181  5.6506305 6.110701  6.4744806\n",
      " 6.053715  5.279004  7.0078106 6.225042  6.1044803 6.5703626 6.7231536\n",
      " 6.2914925 6.103151  6.303262  5.192436  6.5515723 6.5067925 6.1889386\n",
      " 5.6210284 6.1889386 5.6210284 6.2565866 6.2708745 6.4014425 5.307462\n",
      " 5.307462  6.0712166 5.559338  5.802579  5.7007957 6.048928  6.4420695\n",
      " 7.0525193 5.2077084 6.9447107 6.011473  6.2719617 6.2564282 5.64508\n",
      " 6.1678605 6.591731  5.7052155 6.548895  5.7109203 5.391789  6.3081317\n",
      " 4.6368136 4.8822627 5.716926  5.716926  5.6333127 5.8761635 6.1555605\n",
      " 5.751267  5.723753  7.0849314 6.645841  5.3331666 5.6330304 6.1745214\n",
      " 5.9649777 5.5901656 6.181661  5.6613903 5.289619  6.6609635 6.3014674]\n",
      "[5 7 5 7 7 7 7 5 5 6 6 6 6 6 6 6 6 6 6 5 6 6 5 6 6 5 6 6 6 6 5 5 5 6 5 5 6\n",
      " 6 6 6 5 6 6 5 5 6 6 5 5 5 7 5 6 6 6 6 5 5 5 5 6 6 6 6 5 5 6 6 6 5 5 5 5 5\n",
      " 6 4 5 6 6 6 6 6 6 6 6 6 6 6 6 5 5 6 6 6 6 7 5 5 6 5 4 5 6 6 6 6 5 6 6 6 6\n",
      " 6 5 5 6 5 6 6 6 6 6 6 6 6 6 5 6 6 6 5 6 5 6 6 5 5 6 6 6 6 5 5 6 6 6 6 6 5\n",
      " 5 6 6 7 6 6 7 7 7 5 5 5 6 6 6 7 7 6 7 7 5 6 7 6 6 6 6 6 6 6 6 6 5 6 6 6 6\n",
      " 6 6 6 6 6 6 7 6 6 6 6 6 6 5 6 7 4 6 5 5 5 5 7 5 7 7 5 6 7 7 6 6 5 6 6 6 7\n",
      " 7 7 6 6 6 6 5 6 5 6 6 6 7 6 6 7 7 7 5 5 5 7 5 7 7 7 7 7 6 6 6 5 6 7 7 6 5\n",
      " 7 7 5 6 5 5 7 7 6 6 7 6 5 4 6 6 6 6 5 4 6 6 6 6 7 5 6 7 7 6 7 6 5 5 6 6 7\n",
      " 6 6 7 6 6 6 7 6 6 6 7 6 6 6 6 6 5 6 6 6 6 6 6 6 6 5 5 6 6 6 6 6 6 7 6 6 5\n",
      " 6 6 5 5 3 6 6 5 6 5 6 7 6 6 6 7 7 6 6 6 6 7 7 6 8 8 7 6 6 6 6 5 7 4 6 6 6\n",
      " 6 4 5 5 6 6 5 7 8 8 5 6 6 6 6 6 5 7 7 6 5 6 7 7 8 7 4 6 6 6 5 6 5 6 7 5 6\n",
      " 7 6 6 6 6 5 6 6 7 5 6 6 6 5 7 6 6 5 6 7 6 5 6 6 4 7 6 6 5 6 5 6 7 6 5 6 5\n",
      " 5 5 6 6 6 6 5 6 6 6 6 7 5 6 6 6 6 6 7 6 5 6 6 6 7 5 4 6 6 6 5 6 5 6 7 7 5\n",
      " 6 6 6 5 6 5 6 7 6]\n"
     ]
    }
   ],
   "source": [
    "y_predict = model.predict(x_test).reshape(-1)\n",
    "\n",
    "print(y_predict)\n",
    "print(y_test)"
   ]
  },
  {
   "cell_type": "code",
   "execution_count": 55,
   "metadata": {},
   "outputs": [
    {
     "data": {
      "image/png": "[encoded data removed]",
      "text/plain": [
       "<Figure size 432x288 with 1 Axes>"
      ]
     },
     "metadata": {
      "needs_background": "light"
     },
     "output_type": "display_data"
    }
   ],
   "source": [
    "import numpy as np\n",
    "\n",
    "plt.plot(np.arange(n - k)[:100], y_test[:100], \"*--\", color=\"blue\")\n",
    "plt.plot(np.arange(n - k)[:100], y_predict[:100], \"+--\", color=\"red\")\n",
    "\n",
    "plt.show()"
   ]
  },
  {
   "cell_type": "code",
   "execution_count": 57,
   "metadata": {},
   "outputs": [
    {
     "data": {
      "image/png": "[encoded data removed]",
      "text/plain": [
       "<Figure size 432x288 with 1 Axes>"
      ]
     },
     "metadata": {
      "needs_background": "light"
     },
     "output_type": "display_data"
    }
   ],
   "source": [
    "d = y_test - y_predict\n",
    "\n",
    "plt.plot(np.arange(n - k), d)\n",
    "\n",
    "plt.show()"
   ]
  },
  {
   "cell_type": "code",
   "execution_count": 62,
   "metadata": {},
   "outputs": [
    {
     "data": {
      "image/png": "[encoded data removed]",
      "text/plain": [
       "<Figure size 432x288 with 1 Axes>"
      ]
     },
     "metadata": {
      "needs_background": "light"
     },
     "output_type": "display_data"
    }
   ],
   "source": [
    "plt.hist(d, 20)\n",
    "\n",
    "plt.show()"
   ]
  },
  {
   "cell_type": "code",
   "execution_count": 65,
   "metadata": {},
   "outputs": [
    {
     "name": "stdout",
     "output_type": "stream",
     "text": [
      "Media: -0.185565953352\n",
      "D. Estándar: 0.668492874948\n"
     ]
    }
   ],
   "source": [
    "mu = sum(d) / len(d)\n",
    "s = (sum((d - np.ones(len(d)) * mu) ** 2) / (len(d) - 1)) ** 0.5\n",
    "\n",
    "print(\"Media: {}\".format(mu))\n",
    "print(\"D. Estándar: {}\".format(s))"
   ]
  },
  {
   "cell_type": "code",
   "execution_count": 68,
   "metadata": {},
   "outputs": [
    {
     "name": "stdout",
     "output_type": "stream",
     "text": [
      "Intervalo de confianza: (-0.8540588283, 0.482926921596)\n"
     ]
    }
   ],
   "source": [
    "tmin = mu - 2 * s\n",
    "tmax = mu + 2 * s\n",
    "\n",
    "print(\"Intervalo de confianza: ({}, {})\".format(tmin, tmax))"
   ]
  }
 ],
 "metadata": {
  "kernelspec": {
   "display_name": "Python 2",
   "language": "python",
   "name": "python2"
  },
  "language_info": {
   "codemirror_mode": {
    "name": "ipython",
    "version": 2
   },
   "file_extension": ".py",
   "mimetype": "text/x-python",
   "name": "python",
   "nbconvert_exporter": "python",
   "pygments_lexer": "ipython2",
   "version": "2.7.15"
  }
 },
 "nbformat": 4,
 "nbformat_minor": 2
}
