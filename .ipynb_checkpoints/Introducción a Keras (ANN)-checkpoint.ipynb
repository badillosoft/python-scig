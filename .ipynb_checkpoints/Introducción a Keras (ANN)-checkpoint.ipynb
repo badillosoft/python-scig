{
 "cells": [
  {
   "cell_type": "markdown",
   "metadata": {},
   "source": [
    "# Predecir la calidad del Vino blanco\n",
    "\n",
    "En este estudio analizaremos la calidad del vino blanco mediante factores propios del vino como el PH, análisis de azúcar y oxígeno realizados al vino para determinar que tan bueno es dicho vino en una puntuación de 0 a 10. Las muestra de entrenamiento fueron recolectadas de https://archive.ics.uci.edu/ml/datasets/Wine+Quality.\n",
    "\n",
    "Trabajaremos este estudio mediante las librerías de Pandas para la adquisición y preprocesamiento de datos, Keras para el análisis y aprendizaje y Matplotlib para la graficación."
   ]
  },
  {
   "cell_type": "markdown",
   "metadata": {},
   "source": [
    "## Fase de Adquisición de datos"
   ]
  },
  {
   "cell_type": "code",
   "execution_count": 2,
   "metadata": {},
   "outputs": [
    {
     "name": "stdout",
     "output_type": "stream",
     "text": [
      "<class 'pandas.core.frame.DataFrame'>\n",
      "RangeIndex: 4898 entries, 0 to 4897\n",
      "Data columns (total 12 columns):\n",
      "fixed acidity           4898 non-null float64\n",
      "volatile acidity        4898 non-null float64\n",
      "citric acid             4898 non-null float64\n",
      "residual sugar          4898 non-null float64\n",
      "chlorides               4898 non-null float64\n",
      "free sulfur dioxide     4898 non-null float64\n",
      "total sulfur dioxide    4898 non-null float64\n",
      "density                 4898 non-null float64\n",
      "pH                      4898 non-null float64\n",
      "sulphates               4898 non-null float64\n",
      "alcohol                 4898 non-null float64\n",
      "quality                 4898 non-null int64\n",
      "dtypes: float64(11), int64(1)\n",
      "memory usage: 459.3 KB\n",
      "None\n"
     ]
    }
   ],
   "source": [
    "import pandas as pd\n",
    "\n",
    "url = \"http://badillosoft.com/winequality-white.csv\"\n",
    "\n",
    "df = pd.read_csv(url, sep=\";\")\n",
    "\n",
    "print(df.info())"
   ]
  },
  {
   "cell_type": "code",
   "execution_count": 3,
   "metadata": {},
   "outputs": [
    {
     "name": "stdout",
     "output_type": "stream",
     "text": [
      "   fixed acidity  volatile acidity  citric acid  residual sugar  chlorides  \\\n",
      "0            7.0              0.27         0.36            20.7      0.045   \n",
      "1            6.3              0.30         0.34             1.6      0.049   \n",
      "2            8.1              0.28         0.40             6.9      0.050   \n",
      "3            7.2              0.23         0.32             8.5      0.058   \n",
      "4            7.2              0.23         0.32             8.5      0.058   \n",
      "\n",
      "   free sulfur dioxide  total sulfur dioxide  density    pH  sulphates  \\\n",
      "0                 45.0                 170.0   1.0010  3.00       0.45   \n",
      "1                 14.0                 132.0   0.9940  3.30       0.49   \n",
      "2                 30.0                  97.0   0.9951  3.26       0.44   \n",
      "3                 47.0                 186.0   0.9956  3.19       0.40   \n",
      "4                 47.0                 186.0   0.9956  3.19       0.40   \n",
      "\n",
      "   alcohol  quality  \n",
      "0      8.8        6  \n",
      "1      9.5        6  \n",
      "2     10.1        6  \n",
      "3      9.9        6  \n",
      "4      9.9        6  \n"
     ]
    }
   ],
   "source": [
    "print(df.head())"
   ]
  },
  {
   "cell_type": "markdown",
   "metadata": {},
   "source": [
    "## Fase de inspección de datos"
   ]
  },
  {
   "cell_type": "code",
   "execution_count": 6,
   "metadata": {},
   "outputs": [
    {
     "data": {
      "image/png": "[encoded data removed]",
      "text/plain": [
       "<Figure size 432x288 with 1 Axes>"
      ]
     },
     "metadata": {
      "needs_background": "light"
     },
     "output_type": "display_data"
    }
   ],
   "source": [
    "import matplotlib.pyplot as plt\n",
    "\n",
    "plt.plot(df[\"quality\"].index, df[\"quality\"], \"*\")\n",
    "\n",
    "plt.show()"
   ]
  },
  {
   "cell_type": "code",
   "execution_count": 10,
   "metadata": {},
   "outputs": [
    {
     "data": {
      "image/png": "[encoded data removed]",
      "text/plain": [
       "<Figure size 432x288 with 1 Axes>"
      ]
     },
     "metadata": {
      "needs_background": "light"
     },
     "output_type": "display_data"
    }
   ],
   "source": [
    "plt.hist(df[\"quality\"], 15)\n",
    "\n",
    "plt.show()"
   ]
  },
  {
   "cell_type": "markdown",
   "metadata": {},
   "source": [
    "## Fase de Entrenamiento"
   ]
  },
  {
   "cell_type": "code",
   "execution_count": 11,
   "metadata": {},
   "outputs": [
    {
     "name": "stdout",
     "output_type": "stream",
     "text": [
      "Se utilizarán 4408/4898 muestras para el entrenamiento\n"
     ]
    }
   ],
   "source": [
    "# Definimos k como el número de muestras utilizas para el entrenamiento\n",
    "n = len(df)\n",
    "k = int(n * 0.9)\n",
    "\n",
    "print(\"Se utilizarán {}/{} muestras para el entrenamiento\".format(k, n))"
   ]
  },
  {
   "cell_type": "code",
   "execution_count": 14,
   "metadata": {},
   "outputs": [
    {
     "name": "stdout",
     "output_type": "stream",
     "text": [
      "Muestras de entrenamiento\n",
      "[[ 7.    0.27  0.36 ...  3.    0.45  8.8 ]\n",
      " [ 6.3   0.3   0.34 ...  3.3   0.49  9.5 ]\n",
      " [ 8.1   0.28  0.4  ...  3.26  0.44 10.1 ]\n",
      " ...\n",
      " [ 5.9   0.29  0.16 ...  3.21  0.36  9.4 ]\n",
      " [ 6.3   0.29  0.29 ...  3.17  0.36 12.8 ]\n",
      " [ 6.3   0.19  0.32 ...  2.92  0.47 11.05]]\n",
      "Muestras de validación\n",
      "[[ 5.7         0.29        0.16       ...  3.21        0.36\n",
      "   9.4       ]\n",
      " [ 6.3         0.29        0.29       ...  3.17        0.36\n",
      "  12.8       ]\n",
      " [ 5.7         0.24        0.47       ...  3.11        0.46\n",
      "   9.73333333]\n",
      " ...\n",
      " [ 6.5         0.24        0.19       ...  2.99        0.46\n",
      "   9.4       ]\n",
      " [ 5.5         0.29        0.3        ...  3.34        0.38\n",
      "  12.8       ]\n",
      " [ 6.          0.21        0.38       ...  3.26        0.32\n",
      "  11.8       ]]\n"
     ]
    }
   ],
   "source": [
    "x_columns = [\"fixed acidity\", \"volatile acidity\", \n",
    "             \"citric acid\", \"residual sugar\",\n",
    "            \"chlorides\", \"free sulfur dioxide\",\n",
    "            \"total sulfur dioxide\", \"density\",\n",
    "            \"pH\", \"sulphates\", \"alcohol\"]\n",
    "\n",
    "x = pd.DataFrame(df, columns=x_columns)\n",
    "\n",
    "x_train = x[:k].values # [0 -> k - 1] |k| 90%\n",
    "x_test = x[k:].values # [k -> n - 1] |n - k| 10%\n",
    "\n",
    "print(\"Muestras de entrenamiento (características)\")\n",
    "print(x_train)\n",
    "print(\"Muestras de validación (características)\")\n",
    "print(x_test)"
   ]
  },
  {
   "cell_type": "code",
   "execution_count": 18,
   "metadata": {},
   "outputs": [
    {
     "name": "stdout",
     "output_type": "stream",
     "text": [
      "Muestras de entrenamiento (objetivos)\n",
      "[6 6 6 ... 5 7 6]\n",
      "Muestras de validación (objetivos)\n",
      "[5 7 5 7 7 7 7 5 5 6 6 6 6 6 6 6 6 6 6 5 6 6 5 6 6 5 6 6 6 6 5 5 5 6 5 5 6\n",
      " 6 6 6 5 6 6 5 5 6 6 5 5 5 7 5 6 6 6 6 5 5 5 5 6 6 6 6 5 5 6 6 6 5 5 5 5 5\n",
      " 6 4 5 6 6 6 6 6 6 6 6 6 6 6 6 5 5 6 6 6 6 7 5 5 6 5 4 5 6 6 6 6 5 6 6 6 6\n",
      " 6 5 5 6 5 6 6 6 6 6 6 6 6 6 5 6 6 6 5 6 5 6 6 5 5 6 6 6 6 5 5 6 6 6 6 6 5\n",
      " 5 6 6 7 6 6 7 7 7 5 5 5 6 6 6 7 7 6 7 7 5 6 7 6 6 6 6 6 6 6 6 6 5 6 6 6 6\n",
      " 6 6 6 6 6 6 7 6 6 6 6 6 6 5 6 7 4 6 5 5 5 5 7 5 7 7 5 6 7 7 6 6 5 6 6 6 7\n",
      " 7 7 6 6 6 6 5 6 5 6 6 6 7 6 6 7 7 7 5 5 5 7 5 7 7 7 7 7 6 6 6 5 6 7 7 6 5\n",
      " 7 7 5 6 5 5 7 7 6 6 7 6 5 4 6 6 6 6 5 4 6 6 6 6 7 5 6 7 7 6 7 6 5 5 6 6 7\n",
      " 6 6 7 6 6 6 7 6 6 6 7 6 6 6 6 6 5 6 6 6 6 6 6 6 6 5 5 6 6 6 6 6 6 7 6 6 5\n",
      " 6 6 5 5 3 6 6 5 6 5 6 7 6 6 6 7 7 6 6 6 6 7 7 6 8 8 7 6 6 6 6 5 7 4 6 6 6\n",
      " 6 4 5 5 6 6 5 7 8 8 5 6 6 6 6 6 5 7 7 6 5 6 7 7 8 7 4 6 6 6 5 6 5 6 7 5 6\n",
      " 7 6 6 6 6 5 6 6 7 5 6 6 6 5 7 6 6 5 6 7 6 5 6 6 4 7 6 6 5 6 5 6 7 6 5 6 5\n",
      " 5 5 6 6 6 6 5 6 6 6 6 7 5 6 6 6 6 6 7 6 5 6 6 6 7 5 4 6 6 6 5 6 5 6 7 7 5\n",
      " 6 6 6 5 6 5 6 7 6]\n"
     ]
    }
   ],
   "source": [
    "y = df[\"quality\"]\n",
    "\n",
    "y_train = y[:k].values\n",
    "y_test = y[k:].values\n",
    "\n",
    "print(\"Muestras de entrenamiento (objetivos)\")\n",
    "print(y_train)\n",
    "print(\"Muestras de validación (objetivos)\")\n",
    "print(y_test)"
   ]
  },
  {
   "cell_type": "code",
   "execution_count": null,
   "metadata": {},
   "outputs": [],
   "source": []
  },
  {
   "cell_type": "code",
   "execution_count": 24,
   "metadata": {},
   "outputs": [
    {
     "name": "stdout",
     "output_type": "stream",
     "text": [
      "Epoch 1/50\n",
      "4408/4408 [==============================] - 1s 117us/step - loss: 16.2459 - acc: 0.0000e+00\n",
      "Epoch 2/50\n",
      "4408/4408 [==============================] - 0s 42us/step - loss: 12.3240 - acc: 0.0014\n",
      "Epoch 3/50\n",
      "4408/4408 [==============================] - 0s 42us/step - loss: 9.4939 - acc: 0.0043\n",
      "Epoch 4/50\n",
      "4408/4408 [==============================] - 0s 42us/step - loss: 7.2854 - acc: 0.0066\n",
      "Epoch 5/50\n",
      "4408/4408 [==============================] - 0s 37us/step - loss: 5.5446 - acc: 0.0343\n",
      "Epoch 6/50\n",
      "4408/4408 [==============================] - 0s 29us/step - loss: 4.2014 - acc: 0.0345\n",
      "Epoch 7/50\n",
      "4408/4408 [==============================] - 0s 44us/step - loss: 3.1855 - acc: 0.0345\n",
      "Epoch 8/50\n",
      "4408/4408 [==============================] - 0s 34us/step - loss: 2.4324 - acc: 0.2838\n",
      "Epoch 9/50\n",
      "4408/4408 [==============================] - 0s 60us/step - loss: 1.8901 - acc: 0.3040\n",
      "Epoch 10/50\n",
      "4408/4408 [==============================] - 0s 53us/step - loss: 1.5102 - acc: 0.3040\n",
      "Epoch 11/50\n",
      "4408/4408 [==============================] - 0s 41us/step - loss: 1.2514 - acc: 0.3040\n",
      "Epoch 12/50\n",
      "4408/4408 [==============================] - 0s 61us/step - loss: 1.0812 - acc: 0.3040\n",
      "Epoch 13/50\n",
      "4408/4408 [==============================] - 0s 44us/step - loss: 0.9714 - acc: 0.3555\n",
      "Epoch 14/50\n",
      "4408/4408 [==============================] - 0s 34us/step - loss: 0.9036 - acc: 0.4344\n",
      "Epoch 15/50\n",
      "4408/4408 [==============================] - 0s 46us/step - loss: 0.8627 - acc: 0.4344\n",
      "Epoch 16/50\n",
      "4408/4408 [==============================] - 0s 34us/step - loss: 0.8390 - acc: 0.4351\n",
      "Epoch 17/50\n",
      "4408/4408 [==============================] - 0s 43us/step - loss: 0.8259 - acc: 0.4351\n",
      "Epoch 18/50\n",
      "4408/4408 [==============================] - 0s 53us/step - loss: 0.8188 - acc: 0.4351\n",
      "Epoch 19/50\n",
      "4408/4408 [==============================] - 0s 50us/step - loss: 0.8151 - acc: 0.4351\n",
      "Epoch 20/50\n",
      "4408/4408 [==============================] - 0s 43us/step - loss: 0.8133 - acc: 0.4351\n",
      "Epoch 21/50\n",
      "4408/4408 [==============================] - 0s 44us/step - loss: 0.8124 - acc: 0.4353\n",
      "Epoch 22/50\n",
      "4408/4408 [==============================] - 0s 43us/step - loss: 0.8119 - acc: 0.4353\n",
      "Epoch 23/50\n",
      "4408/4408 [==============================] - 0s 51us/step - loss: 0.8117 - acc: 0.4353\n",
      "Epoch 24/50\n",
      "4408/4408 [==============================] - 0s 57us/step - loss: 0.8117 - acc: 0.4353\n",
      "Epoch 25/50\n",
      "4408/4408 [==============================] - 0s 44us/step - loss: 0.8117 - acc: 0.4353\n",
      "Epoch 26/50\n",
      "4408/4408 [==============================] - 0s 36us/step - loss: 0.8116 - acc: 0.4353\n",
      "Epoch 27/50\n",
      "4408/4408 [==============================] - 0s 65us/step - loss: 0.8116 - acc: 0.4353\n",
      "Epoch 28/50\n",
      "4408/4408 [==============================] - 0s 62us/step - loss: 0.8116 - acc: 0.4353\n",
      "Epoch 29/50\n",
      "4408/4408 [==============================] - 0s 77us/step - loss: 0.8116 - acc: 0.4353\n",
      "Epoch 30/50\n",
      "4408/4408 [==============================] - 0s 65us/step - loss: 0.8116 - acc: 0.4353\n",
      "Epoch 31/50\n",
      "4408/4408 [==============================] - 0s 52us/step - loss: 0.8117 - acc: 0.4353\n",
      "Epoch 32/50\n",
      "4408/4408 [==============================] - 0s 45us/step - loss: 0.8115 - acc: 0.4353\n",
      "Epoch 33/50\n",
      "4408/4408 [==============================] - 0s 38us/step - loss: 0.8115 - acc: 0.4353\n",
      "Epoch 34/50\n",
      "4408/4408 [==============================] - 0s 45us/step - loss: 0.8115 - acc: 0.4353\n",
      "Epoch 35/50\n",
      "4408/4408 [==============================] - 0s 44us/step - loss: 0.8115 - acc: 0.4353\n",
      "Epoch 36/50\n",
      "4408/4408 [==============================] - 0s 81us/step - loss: 0.8115 - acc: 0.4353\n",
      "Epoch 37/50\n",
      "4408/4408 [==============================] - 0s 39us/step - loss: 0.8115 - acc: 0.4353\n",
      "Epoch 38/50\n",
      "4408/4408 [==============================] - 0s 36us/step - loss: 0.8115 - acc: 0.4353\n",
      "Epoch 39/50\n",
      "4408/4408 [==============================] - 0s 30us/step - loss: 0.8115 - acc: 0.4353\n",
      "Epoch 40/50\n",
      "4408/4408 [==============================] - 0s 37us/step - loss: 0.8114 - acc: 0.4353\n",
      "Epoch 41/50\n",
      "4408/4408 [==============================] - 0s 39us/step - loss: 0.8114 - acc: 0.4353\n",
      "Epoch 42/50\n",
      "4408/4408 [==============================] - 0s 59us/step - loss: 0.8114 - acc: 0.4353\n",
      "Epoch 43/50\n",
      "4408/4408 [==============================] - 0s 82us/step - loss: 0.8115 - acc: 0.4353\n",
      "Epoch 44/50\n",
      "4408/4408 [==============================] - 0s 64us/step - loss: 0.8113 - acc: 0.4353\n",
      "Epoch 45/50\n",
      "4408/4408 [==============================] - 0s 71us/step - loss: 0.8114 - acc: 0.4353\n",
      "Epoch 46/50\n",
      "4408/4408 [==============================] - 0s 90us/step - loss: 0.8113 - acc: 0.4353\n",
      "Epoch 47/50\n",
      "4408/4408 [==============================] - 0s 66us/step - loss: 0.8113 - acc: 0.4353\n",
      "Epoch 48/50\n",
      "4408/4408 [==============================] - 0s 64us/step - loss: 0.8113 - acc: 0.4353\n",
      "Epoch 49/50\n",
      "4408/4408 [==============================] - 0s 62us/step - loss: 0.8113 - acc: 0.4353\n",
      "Epoch 50/50\n",
      "4408/4408 [==============================] - 0s 45us/step - loss: 0.8112 - acc: 0.4353\n"
     ]
    },
    {
     "data": {
      "text/plain": [
       "<keras.callbacks.History at 0x12a398350>"
      ]
     },
     "execution_count": 24,
     "metadata": {},
     "output_type": "execute_result"
    }
   ],
   "source": [
    "from keras.models import Sequential\n",
    "from keras.layers import Dense\n",
    "\n",
    "model = Sequential()\n",
    "\n",
    "model.add(Dense(units=6, activation=\"tanh\", input_dim=11))\n",
    "model.add(Dense(units=1, activation=\"relu\"))\n",
    "# 11 -> 6 -> 1\n",
    "\n",
    "model.compile(optimizer=\"adam\", loss=\"mse\",\n",
    "              metrics=[\"accuracy\"])\n",
    "\n",
    "model.fit(x_train, y_train, batch_size=64, epochs=50)"
   ]
  },
  {
   "cell_type": "code",
   "execution_count": null,
   "metadata": {},
   "outputs": [],
   "source": []
  },
  {
   "cell_type": "code",
   "execution_count": null,
   "metadata": {},
   "outputs": [],
   "source": []
  },
  {
   "cell_type": "code",
   "execution_count": null,
   "metadata": {},
   "outputs": [],
   "source": []
  },
  {
   "cell_type": "code",
   "execution_count": null,
   "metadata": {},
   "outputs": [],
   "source": []
  }
 ],
 "metadata": {
  "kernelspec": {
   "display_name": "Python 2",
   "language": "python",
   "name": "python2"
  },
  "language_info": {
   "codemirror_mode": {
    "name": "ipython",
    "version": 2
   },
   "file_extension": ".py",
   "mimetype": "text/x-python",
   "name": "python",
   "nbconvert_exporter": "python",
   "pygments_lexer": "ipython2",
   "version": "2.7.15"
  }
 },
 "nbformat": 4,
 "nbformat_minor": 2
}
