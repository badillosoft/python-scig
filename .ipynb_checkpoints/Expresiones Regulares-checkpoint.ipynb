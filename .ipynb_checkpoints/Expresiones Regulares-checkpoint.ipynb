{
 "cells": [
  {
   "cell_type": "markdown",
   "metadata": {},
   "source": [
    "# Expresiones regulares"
   ]
  },
  {
   "cell_type": "code",
   "execution_count": 1,
   "metadata": {},
   "outputs": [],
   "source": [
    "text = \"id: 123\\nHola mundo\\nid: 564\\nQue bien\\nid: 321\\nMe gusta\"\n",
    "\n",
    "open(\"datos.txt\", \"w\").write(text)"
   ]
  },
  {
   "cell_type": "code",
   "execution_count": 6,
   "metadata": {},
   "outputs": [
    {
     "name": "stdout",
     "output_type": "stream",
     "text": [
      "4:7 -> 123\n",
      "23:26 -> 564\n",
      "40:43 -> 321\n"
     ]
    }
   ],
   "source": [
    "import re\n",
    "\n",
    "pattern = \"id:\\s(\\d+)\"\n",
    "\n",
    "text = open(\"datos.txt\").read()\n",
    "\n",
    "for m in re.finditer(pattern, text):\n",
    "    i = m.start(1)\n",
    "    a = m.group(1)\n",
    "    j = i + len(a)\n",
    "    print(\"{}:{} -> {}\".format(i, j, a))"
   ]
  },
  {
   "cell_type": "markdown",
   "metadata": {},
   "source": [
    "## Bot sencillo"
   ]
  },
  {
   "cell_type": "code",
   "execution_count": 2,
   "metadata": {},
   "outputs": [
    {
     "name": "stdout",
     "output_type": "stream",
     "text": [
      "¿Qué comida te gusta?\n",
      "pizza\n",
      "A mi también me encanta la pizza\n"
     ]
    }
   ],
   "source": [
    "import re\n",
    "\n",
    "bot = {\n",
    "    \"pizza\": \"A mi también me encanta la pizza\",\n",
    "    \"hamburguesa\": \"No me gusta tanta carne\",\n",
    "    \"taco\": \"te amo\",\n",
    "    \"pozole\": \"Pos orale, vamos\"\n",
    "}\n",
    "\n",
    "default = \"No conozco esa comida, ¿Qué tal sabe?\"\n",
    "\n",
    "print(\"¿Qué comida te gusta?\")\n",
    "\n",
    "text = raw_input() # Python 3: raw_input => input\n",
    "\n",
    "flag = False\n",
    "\n",
    "for key in bot:\n",
    "    if re.search(key, text.lower()):\n",
    "        print(bot[key])\n",
    "        flag = True\n",
    "\n",
    "if not flag:\n",
    "    print(default)"
   ]
  },
  {
   "cell_type": "markdown",
   "metadata": {},
   "source": [
    "## Detección de correos electrónicos"
   ]
  },
  {
   "cell_type": "code",
   "execution_count": 4,
   "metadata": {},
   "outputs": [
    {
     "name": "stdout",
     "output_type": "stream",
     "text": [
      "jj.77@gmail.com\n",
      "hh23@hotmail.com\n"
     ]
    }
   ],
   "source": [
    "import re\n",
    "\n",
    "text = \"hola pepe, puedes manderle un correo a jj.77@gmail.com explicando la situación del correo mm-hh23@hotmail.com\"\n",
    "\n",
    "pattern = \"[\\w.-_]+@\\w+\\.\\w{2,3}\"\n",
    "\n",
    "for m in re.finditer(pattern, text):\n",
    "    email = m.group(0)\n",
    "    # TODO: Hacer lo que sea con el email\n",
    "    print(email)"
   ]
  }
 ],
 "metadata": {
  "kernelspec": {
   "display_name": "Python 2",
   "language": "python",
   "name": "python2"
  },
  "language_info": {
   "codemirror_mode": {
    "name": "ipython",
    "version": 2
   },
   "file_extension": ".py",
   "mimetype": "text/x-python",
   "name": "python",
   "nbconvert_exporter": "python",
   "pygments_lexer": "ipython2",
   "version": "2.7.15"
  }
 },
 "nbformat": 4,
 "nbformat_minor": 2
}
