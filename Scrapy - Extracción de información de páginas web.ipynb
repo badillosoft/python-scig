{
 "cells": [
  {
   "cell_type": "markdown",
   "metadata": {},
   "source": [
    "# Scrapy - Extracción de información de páginas web"
   ]
  },
  {
   "cell_type": "code",
   "execution_count": 1,
   "metadata": {},
   "outputs": [],
   "source": [
    "import scrapy\n",
    "from scrapy.crawler import CrawlerProcess"
   ]
  },
  {
   "cell_type": "code",
   "execution_count": 2,
   "metadata": {},
   "outputs": [],
   "source": [
    "import json\n",
    "\n",
    "class JsonWriterPipeline(object):\n",
    "\n",
    "    def open_spider(self, spider):\n",
    "        self.file = open('quoteresult.jl', 'w')\n",
    "\n",
    "    def close_spider(self, spider):\n",
    "        self.file.close()\n",
    "\n",
    "    def process_item(self, item, spider):\n",
    "        line = json.dumps(dict(item)) + \"\\n\"\n",
    "        self.file.write(line)\n",
    "        return item"
   ]
  },
  {
   "cell_type": "code",
   "execution_count": 3,
   "metadata": {},
   "outputs": [],
   "source": [
    "class ChedrauiSpider(scrapy.Spider):\n",
    "    name = \"chedraui\"\n",
    "    start_urls = [\"https://www.chedraui.com.mx/\"]\n",
    "    custom_settings = {\n",
    "        'ITEM_PIPELINES': {'__main__.JsonWriterPipeline': 1}, # Used for pipeline 1\n",
    "        'FEED_FORMAT':'json',                                 # Used for pipeline 2\n",
    "        'FEED_URI': 'chedraui.json'                        # Used for pipeline 2\n",
    "    }\n",
    "    def parse(self, response):\n",
    "        for product in response.css(\"div.carousel__item\"):\n",
    "            yield {\n",
    "                \"name\": product.css(\"a div.carousel__item--name::text\").extract_first(),\n",
    "                \"price\": product.css(\"a div.carousel__item--price::text\").extract_first()\n",
    "            }"
   ]
  },
  {
   "cell_type": "code",
   "execution_count": 4,
   "metadata": {},
   "outputs": [
    {
     "name": "stderr",
     "output_type": "stream",
     "text": [
      "2018-12-08 11:21:17 [scrapy.utils.log] INFO: Scrapy 1.5.1 started (bot: scrapybot)\n",
      "2018-12-08 11:21:17 [scrapy.utils.log] INFO: Versions: lxml 4.2.5.0, libxml2 2.9.8, cssselect 1.0.3, parsel 1.5.1, w3lib 1.19.0, Twisted 18.9.0, Python 2.7.15 (default, Aug  7 2018, 10:44:55) - [GCC 4.2.1 Compatible Apple LLVM 9.1.0 (clang-902.0.39.2)], pyOpenSSL 18.0.0 (OpenSSL 1.1.0j  20 Nov 2018), cryptography 2.4.2, Platform Darwin-18.2.0-x86_64-i386-64bit\n",
      "2018-12-08 11:21:17 [scrapy.crawler] INFO: Overridden settings: {'FEED_FORMAT': 'json', 'FEED_URI': 'chedraui.json', 'USER_AGENT': 'Mozilla/4.0 (compatible; MSIE 7.0; Windows NT 5.1)'}\n",
      "2018-12-08 11:21:17 [scrapy.middleware] INFO: Enabled extensions:\n",
      "['scrapy.extensions.feedexport.FeedExporter',\n",
      " 'scrapy.extensions.memusage.MemoryUsage',\n",
      " 'scrapy.extensions.logstats.LogStats',\n",
      " 'scrapy.extensions.telnet.TelnetConsole',\n",
      " 'scrapy.extensions.corestats.CoreStats']\n",
      "2018-12-08 11:21:17 [scrapy.middleware] INFO: Enabled downloader middlewares:\n",
      "['scrapy.downloadermiddlewares.httpauth.HttpAuthMiddleware',\n",
      " 'scrapy.downloadermiddlewares.downloadtimeout.DownloadTimeoutMiddleware',\n",
      " 'scrapy.downloadermiddlewares.defaultheaders.DefaultHeadersMiddleware',\n",
      " 'scrapy.downloadermiddlewares.useragent.UserAgentMiddleware',\n",
      " 'scrapy.downloadermiddlewares.retry.RetryMiddleware',\n",
      " 'scrapy.downloadermiddlewares.redirect.MetaRefreshMiddleware',\n",
      " 'scrapy.downloadermiddlewares.httpcompression.HttpCompressionMiddleware',\n",
      " 'scrapy.downloadermiddlewares.redirect.RedirectMiddleware',\n",
      " 'scrapy.downloadermiddlewares.cookies.CookiesMiddleware',\n",
      " 'scrapy.downloadermiddlewares.httpproxy.HttpProxyMiddleware',\n",
      " 'scrapy.downloadermiddlewares.stats.DownloaderStats']\n",
      "2018-12-08 11:21:17 [scrapy.middleware] INFO: Enabled spider middlewares:\n",
      "['scrapy.spidermiddlewares.httperror.HttpErrorMiddleware',\n",
      " 'scrapy.spidermiddlewares.offsite.OffsiteMiddleware',\n",
      " 'scrapy.spidermiddlewares.referer.RefererMiddleware',\n",
      " 'scrapy.spidermiddlewares.urllength.UrlLengthMiddleware',\n",
      " 'scrapy.spidermiddlewares.depth.DepthMiddleware']\n",
      "2018-12-08 11:21:17 [scrapy.middleware] INFO: Enabled item pipelines:\n",
      "['__main__.JsonWriterPipeline']\n",
      "2018-12-08 11:21:17 [scrapy.core.engine] INFO: Spider opened\n",
      "2018-12-08 11:21:17 [scrapy.extensions.logstats] INFO: Crawled 0 pages (at 0 pages/min), scraped 0 items (at 0 items/min)\n",
      "2018-12-08 11:21:17 [scrapy.extensions.telnet] DEBUG: Telnet console listening on 127.0.0.1:6023\n",
      "2018-12-08 11:21:23 [scrapy.core.engine] DEBUG: Crawled (200) <GET https://www.chedraui.com.mx/> (referer: None)\n",
      "2018-12-08 11:21:24 [scrapy.core.scraper] DEBUG: Scraped from <200 https://www.chedraui.com.mx/>\n",
      "{'price': u'$21,995.00', 'name': u'Pantalla LG 65\" UHD Smart TV 65UJ630'}\n",
      "2018-12-08 11:21:24 [scrapy.core.scraper] DEBUG: Scraped from <200 https://www.chedraui.com.mx/>\n",
      "{'price': u'$12,995.00', 'name': u'Pantalla LG 55\" UHD Smart TV 55UJ63'}\n",
      "2018-12-08 11:21:24 [scrapy.core.scraper] DEBUG: Scraped from <200 https://www.chedraui.com.mx/>\n",
      "{'price': u'$7,295.00', 'name': u'Pant SANSUI 50 \" SMX5019USM 4K Smart'}\n",
      "2018-12-08 11:21:24 [scrapy.core.scraper] DEBUG: Scraped from <200 https://www.chedraui.com.mx/>\n",
      "{'price': u'$8,295.00', 'name': u'Pant JVC 49 \" SI49FSC Curva'}\n",
      "2018-12-08 11:21:24 [scrapy.core.scraper] DEBUG: Scraped from <200 https://www.chedraui.com.mx/>\n",
      "{'price': u'$6,995.00', 'name': u'Pantalla Samsung 43\" Smart TV LH43SEJBG'}\n",
      "2018-12-08 11:21:24 [scrapy.core.scraper] DEBUG: Scraped from <200 https://www.chedraui.com.mx/>\n",
      "{'price': u'$6,295.00', 'name': u'Pantalla JVC 43\" Smart TV SI43FS'}\n",
      "2018-12-08 11:21:24 [scrapy.core.scraper] DEBUG: Scraped from <200 https://www.chedraui.com.mx/>\n",
      "{'price': u'$2,795.00', 'name': u'Televisor Sansui 32\"  SMX32Z1'}\n",
      "2018-12-08 11:21:24 [scrapy.core.scraper] DEBUG: Scraped from <200 https://www.chedraui.com.mx/>\n",
      "{'price': u'$7,295.00', 'name': u\"Consola Xbox One S + Assassin's Creed +\"}\n",
      "2018-12-08 11:21:24 [scrapy.core.scraper] DEBUG: Scraped from <200 https://www.chedraui.com.mx/>\n",
      "{'price': u'$1,395.00', 'name': u\"Bafle AIWA 8'' AW908 50 Watts\"}\n",
      "2018-12-08 11:21:24 [scrapy.core.scraper] DEBUG: Scraped from <200 https://www.chedraui.com.mx/>\n",
      "{'price': u'$1,045.00', 'name': u'Autoestereo AIWA AW-3239BT Bluetooth'}\n",
      "2018-12-08 11:21:24 [scrapy.core.scraper] DEBUG: Scraped from <200 https://www.chedraui.com.mx/>\n",
      "{'price': u'$8,990.00', 'name': u'Lavadora Mabe 19Kg. LMH79104WBAB'}\n",
      "2018-12-08 11:21:24 [scrapy.core.scraper] DEBUG: Scraped from <200 https://www.chedraui.com.mx/>\n",
      "{'price': u'$10,795.00', 'name': u'Secadora Mabe SMG47N8MSBAB0 22 Kg Blanca'}\n",
      "2018-12-08 11:21:24 [scrapy.core.scraper] DEBUG: Scraped from <200 https://www.chedraui.com.mx/>\n",
      "{'price': u'$10,295.00', 'name': u'Refrigerador Daewoo 16p3 44520GNDA'}\n",
      "2018-12-08 11:21:24 [scrapy.core.scraper] DEBUG: Scraped from <200 https://www.chedraui.com.mx/>\n",
      "{'price': u'$4,995.00', 'name': u'Estufa IEM EI3030BAPN 30\"'}\n",
      "2018-12-08 11:21:24 [scrapy.core.scraper] DEBUG: Scraped from <200 https://www.chedraui.com.mx/>\n",
      "{'price': u'$3,995.00', 'name': u'Asador Home Line de Carb\\xf3n BB02543U'}\n",
      "2018-12-08 11:21:24 [scrapy.core.scraper] DEBUG: Scraped from <200 https://www.chedraui.com.mx/>\n",
      "{'price': u'$2,295.00', 'name': u'Mesa para TV Home Line FII0761R'}\n",
      "2018-12-08 11:21:24 [scrapy.core.scraper] DEBUG: Scraped from <200 https://www.chedraui.com.mx/>\n",
      "{'price': u'$1,399.00', 'name': u'Mu\\xf1eca Baby Alive Beb\\xe9 Va Al Ba\\xf1o Rubia'}\n",
      "2018-12-08 11:21:24 [scrapy.core.scraper] DEBUG: Scraped from <200 https://www.chedraui.com.mx/>\n",
      "{'price': u'$499.00', 'name': u'Pista Hotwheels Cobra Trituradora FNB20'}\n",
      "2018-12-08 11:21:24 [scrapy.core.scraper] DEBUG: Scraped from <200 https://www.chedraui.com.mx/>\n",
      "{'price': u'$219.00', 'name': u'Mu\\xf1eca Lol Surprise Lil Sisters Asst 12'}\n",
      "2018-12-08 11:21:24 [scrapy.core.scraper] DEBUG: Scraped from <200 https://www.chedraui.com.mx/>\n",
      "{'price': u'$599.00', 'name': u'Set Barbie Chef de Pizza FHR09'}\n",
      "2018-12-08 11:21:24 [scrapy.core.scraper] DEBUG: Scraped from <200 https://www.chedraui.com.mx/>\n",
      "{'price': u'$289.00', 'name': u'Figura Lol Surprise Pets 144050'}\n",
      "2018-12-08 11:21:24 [scrapy.core.scraper] DEBUG: Scraped from <200 https://www.chedraui.com.mx/>\n",
      "{'price': u'$449.00', 'name': u'Set Crayola Fabricante D Marcador 747054'}\n",
      "2018-12-08 11:21:24 [scrapy.core.scraper] DEBUG: Scraped from <200 https://www.chedraui.com.mx/>\n",
      "{'price': u'$999.00', 'name': u'Set Barbie Hospital M\\xf3vil FRM19'}\n",
      "2018-12-08 11:21:24 [scrapy.core.scraper] DEBUG: Scraped from <200 https://www.chedraui.com.mx/>\n",
      "{'price': u'$199.00', 'name': u'Mu\\xf1eca Famosa Nenuco 3 Funciones Surtido'}\n",
      "2018-12-08 11:21:24 [scrapy.core.scraper] DEBUG: Scraped from <200 https://www.chedraui.com.mx/>\n",
      "{'price': u'$379.00', 'name': u'Mu\\xf1eco Lol Surprise Confetti Pop 146680'}\n",
      "2018-12-08 11:21:24 [scrapy.core.scraper] DEBUG: Scraped from <200 https://www.chedraui.com.mx/>\n",
      "{'price': u'$294.00', 'name': u'Mundo FisherPrice de Aprendizaje DRJ93'}\n",
      "2018-12-08 11:21:24 [scrapy.core.scraper] DEBUG: Scraped from <200 https://www.chedraui.com.mx/>\n",
      "{'price': u'$299.00', 'name': u'Mu\\xf1eca Barbie Movimientos Divertid FTG80'}\n",
      "2018-12-08 11:21:24 [scrapy.core.scraper] DEBUG: Scraped from <200 https://www.chedraui.com.mx/>\n",
      "{'price': u'$249.00', 'name': u'Figura TPZ Twisty Petz 4 figuras Beb\\xe9s'}\n",
      "2018-12-08 11:21:24 [scrapy.core.scraper] DEBUG: Scraped from <200 https://www.chedraui.com.mx/>\n",
      "{'price': u'$899.00', 'name': u'Gimnasio Fisherprice Etapas Ccb70\\xa0'}\n",
      "2018-12-08 11:21:24 [scrapy.core.scraper] DEBUG: Scraped from <200 https://www.chedraui.com.mx/>\n",
      "{'price': u'$999.00', 'name': u'Set Barbie Cocina y Divi\\xe9rtete FRH73'}\n",
      "2018-12-08 11:21:24 [scrapy.core.engine] INFO: Closing spider (finished)\n",
      "2018-12-08 11:21:24 [scrapy.extensions.feedexport] INFO: Stored json feed (30 items) in: chedraui.json\n",
      "2018-12-08 11:21:24 [scrapy.statscollectors] INFO: Dumping Scrapy stats:\n",
      "{'downloader/request_bytes': 234,\n",
      " 'downloader/request_count': 1,\n",
      " 'downloader/request_method_count/GET': 1,\n",
      " 'downloader/response_bytes': 36405,\n",
      " 'downloader/response_count': 1,\n",
      " 'downloader/response_status_count/200': 1,\n",
      " 'finish_reason': 'finished',\n",
      " 'finish_time': datetime.datetime(2018, 12, 8, 17, 21, 24, 261813),\n",
      " 'item_scraped_count': 30,\n",
      " 'log_count/DEBUG': 32,\n",
      " 'log_count/INFO': 8,\n",
      " 'memusage/max': 65875968,\n",
      " 'memusage/startup': 65875968,\n",
      " 'response_received_count': 1,\n",
      " 'scheduler/dequeued': 1,\n",
      " 'scheduler/dequeued/memory': 1,\n",
      " 'scheduler/enqueued': 1,\n",
      " 'scheduler/enqueued/memory': 1,\n",
      " 'start_time': datetime.datetime(2018, 12, 8, 17, 21, 17, 689379)}\n"
     ]
    },
    {
     "name": "stderr",
     "output_type": "stream",
     "text": [
      "2018-12-08 11:21:24 [scrapy.core.engine] INFO: Spider closed (finished)\n"
     ]
    }
   ],
   "source": [
    "process = CrawlerProcess({\n",
    "    'USER_AGENT': 'Mozilla/4.0 (compatible; MSIE 7.0; Windows NT 5.1)'\n",
    "})\n",
    "\n",
    "process.crawl(ChedrauiSpider)\n",
    "process.start()"
   ]
  },
  {
   "cell_type": "code",
   "execution_count": 5,
   "metadata": {},
   "outputs": [
    {
     "name": "stdout",
     "output_type": "stream",
     "text": [
      "{\"price\": \"$999.00\", \"name\": \"Set Barbie Cocina y Divi\\u00e9rtete FRH73\"}\r\n",
      "]"
     ]
    }
   ],
   "source": [
    "!tail -n 2 chedraui.json"
   ]
  },
  {
   "cell_type": "code",
   "execution_count": 6,
   "metadata": {},
   "outputs": [
    {
     "name": "stderr",
     "output_type": "stream",
     "text": [
      "2018-12-08 11:25:00 [matplotlib] DEBUG: $HOME=/Users/alan\n",
      "2018-12-08 11:25:00 [matplotlib] DEBUG: matplotlib data path /usr/local/lib/python2.7/site-packages/matplotlib/mpl-data\n",
      "2018-12-08 11:25:00 [matplotlib] DEBUG: loaded rc file /usr/local/lib/python2.7/site-packages/matplotlib/mpl-data/matplotlibrc\n",
      "2018-12-08 11:25:00 [matplotlib] DEBUG: matplotlib version 2.2.2\n",
      "2018-12-08 11:25:00 [matplotlib] DEBUG: interactive is False\n",
      "2018-12-08 11:25:00 [matplotlib] DEBUG: platform is darwin\n",
      "2018-12-08 11:25:00 [matplotlib] DEBUG: loaded modules: ['numpy.core.info', 'pandas._libs.numpy', 'traitlets.config.decorator', 'pandas.errors.pandas', 'twisted.python.win32', 'distutils.sysconfig', 'pygments.filters', 'IPython.utils.pprint', 'logging.weakref', 'dateutil.tz.os', 'pprint', 'scrapy.utils.sitemap', 'prompt_toolkit.key_binding.bindings.vi', 'ipykernel.traitlets', 'constantly._constants', 'pandas.core.contextlib', 'IPython.terminal.sys', 'SocketServer', 'service_identity.cryptography', 'numpy.core._multiarray_tests', 'pyasn1.type.univ', 'encodings.re', 'IPython.terminal.embed', 'scrapy.spiders.logging', 'jupyter_core.sys', 'scrapy.core.scheduler', 'cmd', 'w3lib.util', 'IPython.core.magics.auto', 'shlex', 'scrapy.collections', 'pandas._libs.pytz', 'IPython.core.completerlib', 'scrapy.core.downloader.handlers.http10', 'zlib', 'ipywidgets.IPython', 'pandas.core.indexes.numpy', 'scrapy.downloadermiddlewares.twisted', 'scrapy.extensions.pprint', 'ipywidgets.widgets.domwidget', 'cryptography.hazmat.primitives.asymmetric.ec', 'pexpect.spawnbase', 'IPython.terminal.ipapp', 'IPython.core.excolors', 'matplotlib.cbook.warnings', 'numpy.testing._private.pytesttester', 'zmq.backend.cython.error', 'pandas.plotting.contextlib', 'numpy.lib.npyio', 'IPython.core.mimetypes', 'ntpath', 'IPython.utils.openpy', 'pandas.io.formats.format', 'prompt_toolkit.key_binding.weakref', 'prompt_toolkit.tempfile', 'twisted.internet.ssl', 'scrapy.os', 'pandas.core.types', 'OpenSSL._util', 'codecs', 'pytz.bisect', 'traitlets.config.loader', 'zmq.eventloop', 'numpy.lib.ufunclike', 'ptyprocess.errno', 'attr.validators', 'pygments.filters.pygments', 'prompt_toolkit.styles.__future__', 'pandas.io', 'IPython.core.usage', 'scrapy.core.time', 'scrapy.spidermiddlewares.depth', 'twisted._threads._team', 'ctypes._ctypes', '_heapq', 'zmq.sugar.constants', 'twisted.internet.weakref', 'pandas._libs.tslibs.timedeltas', 'pexpect.time', 'zmq.backend.cython._poll', 'email.sys', 'prompt_toolkit.filters.utils', 'dateutil.tz._common', 'pandas.compat.StringIO', 'fractions', 'scrapy.urlparse', 'cPickle', 'ipykernel.comm.ipykernel', 'asn1crypto._iri', 'unittest.sys', 'IPython.utils.encoding', 'IPython.lib.os', 'webbrowser', 'zmq.backend.cython.cPickle', 'numpy.core.umath', 'asn1crypto.util', 'scrapy.downloadermiddlewares.httpcompression', 'twisted._threads', 'prompt_toolkit.enums', 'numpy.ctypeslib', 'jupyter_client.sys', 'prompt_toolkit.styles.pygments', 'zmq.backend.cython.codecs', 'functools32.__builtin__', 'jupyter_client.blocking.jupyter_client', 'ipywidgets.widgets.mimetypes', 'exceptions', 'pandas.io.formats.locale', 'pygments.regexopt', 'logging.cStringIO', 'scrapy.core.downloader.logging', 'cssselect.operator', 'numpy.compat', 'dateutil.parser.__future__', 'lxml.html._setmixin', 'pandas._libs.tslib', 'numpy.core.records', 'email.message', 'ipykernel.zmq', 'email.MIMEBase', 'strop', 'IPython.core.history', 'concurrent.futures.process', 'OpenSSL', 'ipython_genutils.textwrap', 'pyasn1.debug', 'prompt_toolkit.abc', 'IPython.utils.ipstruct', 'pandas.core.arrays.pandas', 'xml.sax.urllib', 'pandas.core.sparse.__future__', 'concurrent.pkgutil', 'scrapy.core.six', 'pandas._libs.hashing', 'pyasn1.type.datetime', 'pandas.compat.unicodedata', 'pandas.plotting.collections', 'os.path', 'prompt_toolkit.terminal.os', 'pandas.compat.types', 'scrapy.extensions.tempfile', 'prompt_toolkit.eventloop.callbacks', 'email.base64mime', 'OpenSSL.operator', 'pyasn1.codec.der.pyasn1', 'idna.idnadata', 'functools32.functools32', 'pexpect.exceptions', 'functools', 'prompt_toolkit.subprocess', 'pandas.core.groupby.copy', 'pandas.plotting.warnings', 'uuid', 'numpy.matrixlib.defmatrix', 'scrapy.extensions.six', 'pandas.core.operator', 'scrapy.utils.cryptography', 'scrapy.extensions.logstats', 'imp', 'ipywidgets.widgets.ipykernel', 'multiprocessing.os', 'IPython.utils.tempdir', 'backports.shutil_get_terminal_size.collections', 'enum.sys', 'asn1crypto._types', 'ipywidgets.widgets.docutils', 'unittest.time', 'zmq.zmq', 'pyasn1.type.useful', 'zope', 'w3lib.encodings', 'scrapy.utils.decimal', 'IPython.extensions', 'zmq.eventloop.__future__', 'decorator', 'IPython.core.magics.execution', 'pandas._libs.properties', 'scrapy.utils.re', 'pandas.io.common', 'IPython.utils.imp', 'IPython.utils.sysinfo', 'twisted.python.filepath', 'scrapy.utils.signal', 'IPython.testing.sys', 'IPython.core.magics.basic', 'dateutil.tz.struct', 'pandas.io.functools', 'IPython.terminal.pt_inputhooks', 'parsel.re', 'ipywidgets.widgets.widget_color', 'IPython.core.macro', 'OpenSSL.errno', 'xml.parsers.pyexpat', 'twisted.python.sendmsg', 'scrapy.core.downloader.tls', 'IPython.core.tempfile', 'encodings.stringprep', 'pytz.pytz', 'numpy.random.threading', 're', 'service_identity.string', 'email.quopri', 'queuelib.sqlite3', 'IPython.core.IPython', 'json.json', 'asn1crypto._ordereddict', 'email.re', 'twisted.internet.protocol', 'scrapy.utils.time', 'ipykernel.ctypes', 'matplotlib.json', '_locale', 'logging', 'traceback', 'IPython.utils.coloransi', 'IPython.utils._process_posix', 'ipywidgets.widgets.widget_layout', 'IPython.terminal.IPython', 'traitlets.config.ast', 'scrapy.core.downloader.handlers.http11', 'dateutil.six', 'pexpect', 'pandas._libs.tslibs.nattype', 'twisted', 'numpy.core.arrayprint', 'zmq.backend.cython._device', 'prompt_toolkit.utils', 'numpy._import_tools', 'pandas.io.codecs', 'zope.interface.interface', 'pandas._libs.hashtable', 'IPython.utils.os', 'twisted.internet._idna', 'pygments.styles.pygments', 'IPython.core.magics.code', 'prompt_toolkit.reactive', 'scrapy.extension', 'keyword', 'ipython_genutils.random', 'scrapy.mail', 'pandas._libs.tslibs.strptime', 'stringprep', 'scrapy.settings.scrapy', 'pandas.io.zipfile', 'pygments.lexers.fnmatch', '_curses', 'pandas.core.nanops', 'IPython.utils.generics', 'ptyprocess.io', 'pandas.util._validators', '__main__', 'numpy.sys', 'cryptography.x509.base', 'prompt_toolkit.token', 'IPython.utils.terminal', 'scrapy.core.downloader.webclient', 'asn1crypto._perf', 'ctypes.macholib.dylib', 'twisted.internet._producer_helpers', 'IPython.terminal.os', 'email.MIMEMultipart', 'unittest.difflib', 'pexpect.ptyprocess', 'IPython.lib.clipboard', 'prompt_toolkit.terminal.vt100_input', 'parsel.lxml', 'prompt_toolkit.prompt_toolkit', 'zmq.sugar.cPickle', 'zmq.backend.os', '_sqlite3', 'ctypes.macholib', 'scrapy.utils.logging', 'IPython.utils.wildcard', 'scrapy.downloadermiddlewares.collections', '_osx_support', 'twisted.internet._sslverify', 'pathlib2.urllib', 'twisted.internet.twisted', 'numpy.lib._iotools', 'scrapy.core.engine', 'twisted.python.compat', 'random', 'zmq.sugar.context', 'pandas._libs.pandas', 'pygments.operator', 'scrapy.downloadermiddlewares.os', 'pyasn1.type.math', 'backports.shutil_get_terminal_size.fcntl', 'email.time', 'distutils', 'scrapy.selector.lxmlsel', 'scrapy.twisted', 'OpenSSL.OpenSSL', 'twisted.logger.logging', 'scrapy.extensions.gc', 'scrapy.downloadermiddlewares.redirect', 'cryptography', 'pyasn1.codec.der', 'pytz.tzinfo', 'ipython_genutils.platform', 'prompt_toolkit.terminal.tty', 'pytz.UserDict', 'ptyprocess.ptyprocess', 'pandas.core.series', 'numpy.lib.type_check', 'traitlets.config.collections', 'prompt_toolkit.types', 'scrapy.downloadermiddlewares.httpauth', 'pandas.core.indexes.interval', 'pyasn1.compat', 'IPython.core.prefilter', 'ipywidgets.widgets.widget_float', 'pyexpat.model', 'dateutil.easter', 'jupyter_core.paths', 'scrapy.downloadermiddlewares.httpcache', 'scrapy.pipelines', 'scrapy.core.downloader.handlers', 'prompt_toolkit.key_binding.six', 'pandas.core.indexes.__future__', 'dateutil.parser.io', 'pandas.core.groupby.contextlib', 'ipykernel.comm.traitlets', 'twisted._threads._threadworker', 'twisted.python.log', 'twisted.internet.base', 'pandas._libs.indexing', 'urllib', 'pandas.plotting.operator', 'ipykernel.displayhook', 'twisted.internet.unix', 'twisted.python.tokenize', 'pandas.io.httplib', 'IPython.core.atexit', 'zmq.utils', 'Queue', 'numpy.lib.info', 'ctypes', 'IPython.lib.collections', 'pyasn1.compat.platform', 'scrapy.utils.misc', 'ipykernel.__future__', 'unittest.signal', 'asn1crypto._perf._big_num_ctypes', 'IPython.core.magics.namespace', 'zope.interface.__future__', 'IPython.terminal.shortcuts', 'twisted.python.randbytes', 'IPython.core.magics.atexit', 'six.moves', 'IPython.terminal.logging', 'email.uu', 'IPython.testing', 'sqlite3.datetime', 'pygments.lexers.re', 'email.calendar', 'OpenSSL.base64', 'encodings.unicode_escape', 'pandas._libs.distutils', 'numpy.compat.py3k', 'prompt_toolkit.shlex', 'code', 'IPython.core.hooks', 'IPython.display', 'pkgutil', 'zmq.backend.cython', 'twisted.cred.error', 'twisted.python.components', 'dateutil.parser.string', 'scrapy.utils.tempfile', 'numpy', 'subprocess32', 'numpy.lib.shape_base', 'pandas._libs', 'pytz', 'curses.sys', 'multiprocessing.multiprocessing', 'twisted.conch.insults.string', 'prompt_toolkit.__future__', 'scrapy.selector.scrapy', 'pandas._libs.internals', 'ptyprocess.util', 'storemagic', 'wcwidth.table_zero', 'email.random', 'ipykernel.thread', 'json.decoder', 'pandas.core.indexing', 'tornado.platform.auto', 'scrapy.downloadermiddlewares', 'scrapy.settings.default_settings', 'dateutil.tz', 'io', 'IPython.utils.random', 'jupyter_client.clientabc', 'twisted.internet.address', 'idna.package_data', 'numpy.core._internal', 'numpy.core', 'prompt_toolkit.weakref', 'zmq.os', 'rfc822', 'service_identity.exceptions', 'prompt_toolkit.filters', 'jupyter_client.traitlets', 'twisted.python.context', 'pandas', '_weakref', 'IPython.core.inputtransformer', 'attr.filters', 'urlparse', 'w3lib.html', 'pygments.cStringIO', 'pandas._libs.tslibs.re', 'zope.interface.ro', 'gzip', 'IPython.core', 'scrapy.downloadermiddlewares.retry', 'traitlets.utils.six', 'ipywidgets.widgets.widget_button', '_bisect', 'email.errors', 'pandas._libs.tslibs.np_datetime', 'ipykernel.pickleutil', 'prompt_toolkit.key_binding.defaults', 'matplotlib.colors', 'ipython_genutils.path', 'twisted.logger', 'numpy.random.info', 'twisted.internet.stdio', 'IPython.utils.strdispatch', 'jupyter_client.random', 'twisted.internet.interfaces', 'sqlite3._sqlite3', 'collections', 'unittest.main', 'ConfigParser', 'IPython.extensions.sys', 'IPython.core.struct', 'pandas._libs.tslibs.calendar', 'IPython.terminal.magics', 'textwrap', 'IPython.lib.subprocess', 'tornado.util', 'pandas.tseries.frequencies', 'pexpect.traceback', 'ipykernel.math', 'zmq.backend.cython._version', 'IPython.terminal.warnings', 'pandas.compat.cPickle', 'scrapy.utils.response', 'IPython.core.getopt', 'pandas.core.groupby.types', 'numpy.core.getlimits', 'parsel.utils', 'pygments.lexers._mapping', 'pyasn1.compat.pyasn1', 'pygments.lexers.os', 'logging.traceback', 'scrapy.http.request.w3lib', 'tornado.stack_context', 'prompt_toolkit.terminal.array', 'twisted.logger.twisted', 'pandas.plotting._converter', 'IPython.core.argparse', 'numpy.lib.mixins', '_posixsubprocess32', 'scrapy.settings.importlib', 'twisted.logger.json', 'pandas.core.tools.datetimes', 'pandas.core.config_init', 'mpl_toolkits', 'traitlets.config.ipython_genutils', 'IPython.lib', 'scrapy.utils.log', 'pygments.os', 'tornado.platform.common', 'prompt_toolkit.layout.dimension', 'scrapy.utils.job', 'scrapy.six', 'scrapy.http.response.w3lib', 'pandas.tseries.functools', 'twisted.web.client', 'IPython.utils.contexts', 'numpy.linalg.lapack_lite', 'pyasn1', 'marshal', 'IPython.lib.deepreload', 'jupyter_client.blocking.Queue', 'prompt_toolkit.layout.itertools', 'pandas.core.api', 'pygments.formatters.fnmatch', 'scrapy.utils.twisted', 'pandas.core.indexes', 'IPython.utils.tokenutil', '_socket', 'email.Utils', 'IPython.core.glob', 'IPython.core.abc', 'pathlib2.posixpath', 'numpy.core.numerictypes', 'scrapy.spiders.copy', 'zmq.eventloop.zmq', 'prompt_toolkit.styles.prompt_toolkit', 'tokenize', 'pygments.formatters', 'pandas.compat.cStringIO', 'curses.wrapper', 'prompt_toolkit.six', 'zmq.backend', 'IPython.utils.pexpect', 'tornado.platform', 'IPython.core.magics.pylab', 'attr', 'dateutil.tz.bisect', 'IPython.paths', 'numpy.random.numpy', 'twisted.python', 'pandas._libs.tslibs.thread', 'scrapy.cStringIO', 'pandas.core.dtypes.common', 'cryptography.hazmat.primitives.asymmetric', 'mimetools', 'zope.interface.interfaces', 'pyasn1.codec.ber.pyasn1', 'pandas.datetime', 'pandas.core.indexes.sys', 'scrapy.utils.w3lib', 'IPython.core.magics.os', 'numpy.polynomial.polynomial', 'twisted.incremental', 'prompt_toolkit.key_binding.bindings.scroll', 'traitlets.config.traitlets', 'IPython.core.string', 'service_identity.sys', 'pandas.compat.thread', 'scrapy.downloadermiddlewares.logging', 'scrapy.settings.warnings', 'twisted.python.htmlizer', 'prompt_toolkit.os', 'jupyter_client.client', 'scrapy.middleware', 'wcwidth.wcwidth', 'genericpath', 'IPython.utils.io', 'scrapy.utils.collections', 'prompt_toolkit.styles.utils', 'ipykernel.time', 'ipykernel.os', 'concurrent', 'ctypes.ctypes', 'IPython.utils.functools', 'scrapy.utils.reqser', 'pandas.core.indexes.api', 'w3lib.string', 'pandas.core.indexes.operator', 'scrapy.selector.parsel', 'OpenSSL.weakref', 'ipykernel.jsonutil', 'IPython.utils.signatures', 'jupyter_client.blocking.time', 'time', 'scandir', 'idna', 'scrapy.utils.lxml', 'IPython.core.error', 'twisted.protocols.incremental', 'pandas.core.indexes.pandas', 'pandas.core.indexes.frozen', 'pygments.lexers.pygments', 'pandas.core.accessor', 'prompt_toolkit.terminal.vt100_output', 'email.iterators', 'pandas.core.frame', 'ptyprocess.resource', 'pandas.core.dtypes.pandas', 'pyasn1.compat.datetime', 'IPython.utils.simplegeneric', 'pandas._libs.operator', 'pandas.core.tokenize', 'string', 'prompt_toolkit.layout.six', 'scrapy.exceptions', 'pandas.util.warnings', 'email.quoprimime', 'twisted._threads._memory', 'subprocess', 'numpy.core.machar', 'zmq.backend.cython.utils', 'twisted.conch.telnet', 'pandas.core.dtypes.numbers', 'OpenSSL.cryptography', 'IPython.core.displayhook', 'numpy.ma.extras', 'pyasn1.type', 'twisted.conch.code', 'IPython.core.ultratb', 'twisted.cred._digest', 'multiprocessing', 'dis', 'IPython.core.splitinput', 'IPython.lib.types', 'pandas._libs.tslibs.textwrap', 'pytz.datetime', 'IPython.utils.tempfile', 'IPython.extensions.textwrap', 'IPython.lib.getpass', 'scrapy.http.request', 'ipython_genutils.sys', 'scrapy.settings.sys', 'pathlib2.ctypes', 'scrapy.spiders.sitemap', 'pyasn1.codec.ber.decoder', 'pandas.core.sparse', 'ptyprocess.pty', 'scrapy.extensions.scrapy', 'twisted.logger.uuid', '_ctypes', 'fnmatch', 'pandas.core.ops', 'scrapy.http.six', 'ipykernel.imp', 'IPython.core.shadowns', 'pandas._libs.join', 'pexpect.stat', 'traitlets.config.json', 'email.socket', 'weakref', 'twisted.internet.main', 'pyasn1.codec.ber.eoo', 'traitlets', 'cssselect', 'IPython.core.display', 'twisted.protocols.basic', 'IPython.terminal', 'pandas.core.groupby', 'pandas.core.indexes.numeric', 'jupyter_client.blocking.zmq', 'attr._make', 'pandas.core.functools', 'prompt_toolkit.key_binding.bindings.basic', 'twisted.python.util', 'pyasn1.compat.binascii', 'email.charset', 'IPython', 'logging.re', 'pandas.core.util.numpy', 'IPython.core.subprocess', 'six.moves.urllib', 'email.MIMEMessage', 'email._parseaddr', 'prompt_toolkit.layout.abc', 'traitlets.utils.inspect', 'pyasn1.codec.cer.decoder', 'scrapy.utils.url', 'IPython.core.magics.errno', 'zmq.sugar.threading', 'scrapy.spiders.crawl', 'IPython.core.ast', 'prompt_toolkit.clipboard.base', 'pyasn1.type.base', 'IPython.core.getipython', 'pandas.core.tools.timedeltas', 'IPython.core.magics.display', 'numpy.core.fromnumeric', '_ast', 'IPython.utils.process', 'pandas.io.formats.sys', 'tornado.concurrent', 'pickle', 'pandas.core.indexes.textwrap', 'xml.sax.types', 'scrapy.http.request.rpc', 'pandas.io.mmap', 'OpenSSL.datetime', 'pygments.lexers.python', 'zope.interface', 'scrapy.logging', 'numpy.lib.polynomial', 'scrapy.extensions.corestats', 'incremental', 'scrapy.statscollectors', 'twisted.protocols', 'scrapy.core.downloader.contextfactory', 'ipykernel.comm.ipython_genutils', 'prompt_toolkit.key_binding.abc', 'scrapy.selector', 'lxml', 'IPython.shutil', 'twisted.internet.idna', 'twisted.internet.fdesc', 'pandas._libs.tslibs.pandas', 'matplotlib.testing', 'IPython.core.magics.logging', 'scrapy.utils.request', 'IPython.lib.warnings', 'numpy.lib.utils', 'pandas._libs.tslibs.conversion', 'dateutil.relativedelta', 'parsel.w3lib', 'repr', 'pexpect.os', 'codeop', 'numpy.lib.arrayterator', 'tornado.platform.interface', 'zmq.sugar.atexit', 'IPython.core.magics.time', 'pandas.core.collections', 'zope.interface.exceptions', 'email.mime.multipart', 'scrapy.core.downloader.handlers.time', '_weakrefset', 'zmq.backend.select', 'queuelib.json', 'functools32.reprlib32', 'unittest.traceback', 'queuelib.queuelib', 'ipywidgets.widgets.widget', 'scrapy.scrapy', 'IPython.core.traitlets', 'tty', 'pandas._libs.tslibs.period', 'pygments.pygments', 'backports.shutil_get_terminal_size.termios', 'zmq.sugar', 'w3lib.codecs', 'jupyter_client._version', 'pygments.formatters.types', 'scrapy.utils.httpobj', 'jupyter_core.os', 'OpenSSL.SSL', 'scrapy.core.downloader.handlers.re', 'platform', 'twisted.logger._buffer', 'matplotlib.compat', 'zmq.libzmq', 'pexpect.codecs', 'unittest.functools', 'ptyprocess.codecs', 'twisted.python.datetime', 'IPython.core.traceback', 'unittest.util', 'prompt_toolkit.layout.mouse_handlers', 'prompt_toolkit.key_binding.bindings.codecs', 'pandas.core.dtypes.numpy', 'scrapy.spidermiddlewares.urllength', 'twisted.conch', 'zope.interface.advice', 'csv', 'pytz.collections', 'twisted.web.twisted', 'IPython.extensions.traitlets', 'email.encoders', 'scrapy.core.downloader.middleware', 'dateutil.warnings', 'pathlib2.six', 'backports.shutil_get_terminal_size.struct', 'traitlets.utils.ipython_genutils', 'zmq.sugar.frame', 'scrapy.utils.platform', 'IPython.core.magics.history', 'pandas.core.dtypes.concat', 'zmq.backend.cython.struct', 'unittest.re', 'twisted.python._sendmsg', 'scrapy.settings.copy', 'ipykernel.signal', 'distutils.string', 'IPython.utils', 'prompt_toolkit.layout.time', 'zope.interface.declarations', 'pathlib2.fnmatch', 'pygments.filters.re', 'IPython.core.magics.IPython', 'IPython.utils.capture', 'twisted.logger.functools', 'scrapy.sys', 'scrapy.http.response.parsel', 'scrapy.extensions.importlib', 'cryptography.hazmat', 'scrapy.utils.serialize', 'prompt_toolkit.key_binding.bindings.six', 'scrapy.spiders.feed', 'IPython.core.errno', 'pandas._libs.tslibs.resolution', 'scrapy.utils.inspect', 'pandas.compat.numpy.distutils', 'pandas.core.indexes.multi', 'concurrent.futures.time', 'IPython.core.copy', 'pyasn1.compat.string', 'pandas.core.sys', 'scrapy.extensions.spiderstate', 'twisted.web._responses', 'constantly', 'ctypes.macholib.os', 'pandas.compat.numpy.pandas', 'numpy.random', 'pygments.lexers.sys', 'ipykernel.uuid', 'twisted.internet.endpoints', 'pexpect.pty_spawn', 'array', 'twisted.logger._observer', 'IPython.core.magics.config', 'scrapy.http.response.html', 'twisted.internet.zope', 'numpy.core.multiarray', 'IPython.utils.PyColorize', 'ipykernel.atexit', 'pytz.exceptions', 'IPython.utils._sysinfo', 'types', 'xml.sax.handler', 'scrapy.downloadermiddlewares.robotstxt', 'pandas.io.formats.terminal', '_codecs', 'scrapy.spidermiddlewares.httperror', 'IPython.core.unicodedata', 'pyasn1.type.pyasn1', 'parsel.six', 'pandas.core.arrays.numpy', 'IPython.extensions.inspect', 'pygments.time', 'copy', 'scrapy.extensions.ftplib', 'scrapy.extensions.datetime', 'ipywidgets.widgets.sys', 'pandas.util.types', 'pydispatch.saferef', 'unittest.weakref', 'posix', 'pandas.core.groupby.groupby', 'backports.shutil_get_terminal_size.os', 'prompt_toolkit.layout.utils', 'pandas.tseries.offsets', 'zmq.utils.itertools', 'cssselect.sys', 'getpass', 'prompt_toolkit.inspect', 'IPython.core.threading', 'backports_abc', 'numpy.fft.info', 'concurrent.futures', 'unittest.result', 'ipython_genutils.os', 'IPython.core.pprint', 'concurrent.futures._base', 'twisted.internet.posixbase', 'IPython.core.magics.__future__', 'scrapy.core.scraper', 'scrapy.http.headers', 'ipywidgets.widgets.datetime', 'scrapy.utils.datatypes', 'dateutil.parser.six', 'tornado', 'ipykernel.getpass', 'pandas.core.indexes.datetimelike', 'pandas.io.formats.console', 'pandas.compat.struct', 'pexpect.errno', 'pandas.core.dtypes.dtypes', 'pandas.io.formats.numpy', 'twisted.conch.incremental', 'future_builtins', 'numpy.lib.scimath', 'pygments.modeline', 'linecache', 'ipywidgets.widgets.widget_media', 'ipywidgets.widgets.trait_types', 'traitlets.config.configurable', 'scrapy.utils.iterators', 'jupyter_client.zmq', 'scrapy.core.spidermw', 'hmac', 'twisted.internet', 'twisted.python.threadpool', 'jupyter_client.json', 'scrapy.utils.csv', 'datetime', 'pandas.core.sparse.pandas', 'backports.shutil_get_terminal_size.sys', 'zope.interface.types', 'ipykernel.datapub', 'ptyprocess.time', 'pygments.formatters._mapping', 'xml', 'logging.stat', '_cython_0_28_2', '_cython_0_28_5', 'pexpect.run', 'dateutil.tz.tz', 'IPython.core.magic', 'twisted.conch.insults.twisted', 'scrapy.core.downloader.handlers.http', '_json', 'ipykernel.cPickle', 'pyexpat.errors', 'traitlets.config.argparse', 'IPython.lib.contextlib', 'queuelib.struct', 'cProfile', 'ipywidgets.widgets.functools', 'pandas.util', 'IPython.lib.re', 'pexpect.expect', 'scrapy.core.downloader.service_identity', 'concurrent.futures.threading', 'zipfile', 'zmq.backend.cython.threading', 'six.moves.http_cookiejar', 'ssl', 'numpy.version', 'tornado.platform.posix', 'prompt_toolkit.completion', 'scrapy.http.response.xml', 'resource', 'traitlets.config', 'scrapy.zope', 'pydoc', 'threading', 'prompt_toolkit.styles.from_dict', 'IPython.lib.datetime', 'asn1crypto.collections', 'IPython.core.events', 'numpy.fft', 'email.Message', 'pathlib2.io', 'unittest.case', 'zmq.eventloop.ioloop', 'ctypes.macholib.re', 'parsel.parsel', 'ptyprocess.__builtin__', 'scrapy.settings.six', 'pexpect.sys', 'calendar', 'ipywidgets', 'timeit', 'twisted.logger.warnings', 'pandas.tseries.numpy', 'scrapy.extensions.memdebug', 'jupyter_client.managerabc', 'scrapy.core.collections', 'twisted.conch.insults.zope', 'zmq.sys', '_MozillaCookieJar', 'prompt_toolkit.validation', 'jupyter_client.blocking.sys', 'scrapy.extensions.twisted', 'IPython.utils.path', '_constant_time.lib', 'distutils.os', 'jupyter_client.localinterfaces', 'prompt_toolkit.key_binding.bindings.math', 'pandas._libs.datetime', 'cryptography.x509.extensions', 'twisted.web.iweb', 'IPython.utils._process_common', 'pickleshare', 'ipykernel.ipykernel', 'json.re', 'pandas.core.missing', 'fcntl', 'scrapy.spiders.re', 'opcode', 'pstats', 'ptyprocess.signal', 'unittest', 'prompt_toolkit.renderer', 'prompt_toolkit.key_binding.bindings.string', 'prompt_toolkit.shortcuts', 'logging.errno', 'scrapy.marshal', 'numpy.testing._private.utils', 'pyasn1.compat.octets', 'xml.sax', 'numpy.polynomial.laguerre', 'queuelib.glob', 'sre_constants', 'queuelib.pqueue', 'IPython.lib.backgroundjobs', 'numpy.core.function_base', 'ipywidgets.traitlets', 'pydispatch.sys', 'pandas.util._decorators', 'cryptography.hazmat.backends.interfaces', 'scrapy.utils.cStringIO', 'dateutil.parser.time', 'numpy.polynomial._polybase', 'pandas.plotting._tools', 'logging.atexit', 'logging.cPickle', 'scrapy.utils.OpenSSL', 'email.MIMENonMultipart', 'pandas.io.formats.__future__', 'prompt_toolkit.layout.screen', 'scrapy.utils.os', 'concurrent.futures.Queue', 'pandas.core.dtypes.generic', 'idna.unicodedata', 'twisted.logger.zope', 'traitlets.enum', 'ipywidgets.widgets.interaction', 'twisted.python._oldstyle', 'pandas.plotting.pandas', 'pandas.util.inspect', 'twisted.persisted', 'shutil', 'matplotlib._version', 'pandas._libs.tslibs.warnings', 'prompt_toolkit.styles.base', 'scrapy.extensions.feedexport', 'numpy.linalg.info', 'scrapy.utils.boto', 'scrapy.core', 'pandas.io.formats', 'ipywidgets.widgets.__future__', 'IPython.core.magics.script', 'pandas.tseries.re', 'pygments.formatters.pygments', 'prompt_toolkit.buffer', 'scrapy.spiders', 'twisted._threads._pool', 'scrapy.core.downloader.zope', 'multiprocessing.subprocess', 'importlib.sys', 'ipaddress', 'six.moves.email_mime_multipart', 'jupyter_client', 'twisted.python.twisted', 'matplotlib.fontconfig_pattern', 'prompt_toolkit.layout.collections', 'functools32.itertools', 'ipykernel.binascii', 'encodings.idna', 'idna.sys', 'pandas._libs.tslibs.time', 'scrapy.core.downloader.scrapy', 'IPython.core.StringIO', 'ipywidgets.widgets.widget_output', 'pandas.core.dtypes.re', 'heapq', 'prompt_toolkit.key_binding.bindings.completion', 'scrapy.downloadermiddlewares.six', 'asn1crypto._int', 'pandas._libs.tslibs.sys', 'functools32.thread', 'IPython.core.os', 'pandas.plotting._core', 'IPython.utils._signatures', 'struct', 'pandas.core.dtypes.cast', 'IPython.utils.tokenize2', 'six.moves.email_mime_base', 'twisted.internet.selectreactor', 'email.warnings', 'prompt_toolkit.eventloop.six', 'prompt_toolkit.filters.collections', 'email.Parser', 'distutils.types', 'traitlets.utils', 'pathlib2.sys', 'pandas._libs.tslibs.fields', 'twisted.conch.insults.helper', 'pexpect.io', 'attr._compat', 'pandas.core.dtypes.warnings', 'scrapy.core.downloader.handlers.twisted', 'constantly.json', 'jupyter_client.channelsabc', 'prompt_toolkit.filters.__future__', 'zmq.sugar.errno', 'pexpect.types', 'IPython.utils.frame', 'IPython.core.payloadpage', 'twisted.internet.fcntl', 'prompt_toolkit.filters.abc', 'prompt_toolkit.layout.prompt', 'decimal', 'IPython.core.imp', 'pandas.core.config', 'scrapy.http.cookies', 'cryptography.hazmat.primitives.constant_time', 'IPython.terminal.prompts', 'w3lib', 'pandas.core.tools.pandas', 'asn1crypto._ffi', 'email.Generator', 'IPython.core.magic_arguments', 'pandas.core.sparse.numpy', 'wcwidth.table_wide', 'email.MIMEAudio', 'IPython.extensions.__future__', 'pandas.core.tools', 'zmq.utils.jsonapi', 'scrapy.extensions.zope', 'pygments.formatters.re', 'prompt_toolkit.eventloop.abc', 'pandas.compat.sys', 'prompt_toolkit.key_binding.bindings.itertools', 'scrapy.extensions.collections', 'IPython.terminal.__future__', 'inspect', 'asn1crypto.core', 'urllib2', 'scrapy.utils.weakref', 'scrapy.extensions.posixpath', 'scrapy.xml', 'sqlite3.dbapi2', 'pandas.core.index', 'email.Iterators', 'scrapy.warnings', 'twisted.conch.recvline', 'numpy.core.memmap', 'twisted.logger._file', 'cython_runtime', 'pyasn1.type.tagmap', 'IPython.core.re', 'cryptography.x509.certificate_transparency', 'twisted.python.failure', 'dateutil.math', 'email.Charset', 'ctypes.macholib.framework', 'scrapy.http.request.scrapy', 'lxml._elementpath', 'ipywidgets.widgets.widget_box', 'os', 'IPython.terminal.ptutils', 'pydispatch.weakref', 'cryptography.hazmat.bindings.openssl.binding', 'curses', 'lxml.re', 'pandas._libs.tslibs.offsets', 'numpy.lib.format', 'operator', 'prompt_toolkit.layout.menus', 'parsel.sys', 'IPython.core.io', 'traitlets.config.os', 'twisted.logger.datetime', 'prompt_toolkit.clipboard.abc', 'IPython.lib.imp', 'pandas.core.generic', 'numpy.add_newdocs', 'pyasn1.compat.integer', '_warnings', 'pandas._libs.algos', 'IPython.core.latex_symbols', 'cssselect.re', 'twisted.persisted.styles', 'prompt_toolkit.layout.__future__', 'attr.converters', 'zmq.backend.cython.zmq', 'numpy._distributor_init', 'pandas.core.groupby.collections', 'IPython.utils.types', 'twisted.logger.string', 'ipykernel.heartbeat', 'dateutil.parser.dateutil', 'twisted.logger._flatten', 'scrapy.http.request.lxml', 'logging.SocketServer', 'pandas.core.arrays', 'ipykernel.ipython_genutils', 'twisted.internet.tcp', 'cryptography.x509.name', 'pyasn1.codec', 'dateutil.datetime', 'zmq.utils.zmq', 'w3lib.sys', 'IPython.utils.time', 'IPython.lib.hashlib', 'traitlets.warnings', 'IPython.utils.glob', 'logging.types', 'prompt_toolkit.bisect', 'IPython.core.release', 'scrapy.downloadermiddlewares.stats', 'numpy.core.defchararray', 'gettext', 'pandas.core.arrays.warnings', '_abcoll', 'IPython.lib.security', 'pyasn1.pyasn1', 'scrapy.utils.datetime', 'zmq.eventloop.Queue', 'mimetypes', 'pygments.lexers', 'IPython.core.formatters', 'IPython.warnings', 'twisted.conch.insults.incremental', 'prompt_toolkit.collections', 'pyasn1.codec.der.decoder', 'unittest.signals', 'scrapy.core.downloader.handlers.six', 'email.utils', 'twisted.python.modules', 'numpy.testing._private.decorators', 'prompt_toolkit.layout', 'pandas.core.groupby.textwrap', 'pandas.core.sparse.array', 'traitlets.re', 'scrapy.extensions.sys', 'IPython.utils.py3compat', 'scrapy.settings.json', 'pandas.core.arrays.categorical', 'traitlets.config.sys', 'concurrent.futures.types', 'scrapy.downloadermiddlewares.email', 'runpy', 'pty', 'pandas.core.indexes.datetimes', 'zope.interface._compat', 'twisted.conch.zope', 'pandas._libs.tslibs.parsing', 'constantly._version', 'jupyter_client.blocking.channels', 'twisted.conch.insults.__future__', 'twisted.web.incremental', 'scrapy.spidermiddlewares.w3lib', 'prompt_toolkit.key_binding.manager', 'scrapy.http.time', 'scrapy.utils.defer', 'zmq', '_openssl.lib', 'cssselect.xpath', 'encodings.utf_8', 'distutils.sys', 'twisted.internet._newtls', 'json.encoder', 'pandas.plotting.re', 'scrapy.__future__', 'scrapy.utils.hashlib', 'unittest.StringIO', 'traitlets.log', 'concurrent.futures.collections', 'IPython.lib.IPython', 'numpy.fft.fftpack_lite', 'scrapy.core.downloader', 'twisted.logger._levels', 'twisted.python.systemd', 'cryptography.hazmat.bindings', 'ctypes.macholib.dyld', 'IPython.terminal.unicodedata', 'IPython.extensions.IPython', 'IPython.core.inspect', 'abc', 'zmq.utils.sys', 'twisted.internet._resolver', 'ipython_genutils.errno', 'ptyprocess', 'pyasn1.compat.binary', 'traitlets.os', 'jupyter_client.blocking.traitlets', 'twisted.internet.udp', 'w3lib.os', 'IPython.core.alias', 'IPython.core.datetime', 'scrapy.downloadermiddlewares.ajaxcrawl', 'ipykernel.re', 'prompt_toolkit.clipboard.six', 'pandas.core.indexes.category', 'IPython.utils.shutil', 'StringIO', 'wcwidth', 'ipywidgets.os', 'ipykernel.itertools', 'twisted.conch.io', 'pandas.core.codecs', 'asn1crypto', 'twisted.conch.twisted', 'pandas.plotting.dateutil', 'queuelib.rrqueue', 'scrapy.downloadermiddlewares.base64', 'parsel.functools32', 'pandas.compat.numpy.numpy', 'ipywidgets.widgets.valuewidget', 'select', 'pandas._libs.interval', 'numpy.lib.financial', 'zmq.backend.cython.time', 'numpy.testing._private', 'OpenSSL.socket', 'jupyter_client.session', 'numpy.polynomial.hermite_e', 'twisted.internet.threads', 'pandas.core.strings', 'scrapy.utils.trackref', 'pandas.compat.collections', 'scrapy.extensions.w3lib', 'pandas._libs.tslibs.timezones', 'IPython.core.keyword', 'scrapy.http.response.scrapy', 'prompt_toolkit.styles.abc', 'IPython.terminal.pt_inputhooks.importlib', 'unicodedata', 'zmq.sugar.tracker', 'jupyter_client.blocking.getpass', 'encodings.aliases', 'xml.sax._exceptions', 'OpenSSL.itertools', 'jupyter_core.version', 'pandas.tseries', 'numpy.random.warnings', 'pandas._libs.tslibs.ccalendar', 'jupyter_client.launcher', 'scrapy.utils.scrapy', 'scrapy.http.response.six', 'scrapy.spidermiddlewares.scrapy', 'pandas.io.formats.functools', 'scrapy.utils.struct', 'prompt_toolkit.styles.six', 'numbers', 'IPython.utils.shlex', 'pandas.core.keyword', 'pyexpat', 'prompt_toolkit.eventloop.base', 'scrapy.utils.engine', 'pygments.util', 'numpy.core.numeric', 'jupyter_client.connect', 'pandas._libs.tslibs.timestamps', 'scrapy.utils.json', 'traitlets._version', 'twisted.logger.sys', 'virtualenvwrapper', 'pandas.core.dtypes.collections', 'jupyter_client.jupyter_core', 'htmlentitydefs', 'twisted.internet.task', 'twisted.internet.reactor', 'jupyter_core.tempfile', 'ipywidgets.widgets.contextlib', 'zmq.backend.sys', 'pygments.formatter', 'argparse', 'pandas.plotting.numpy', 'scrapy.downloadermiddlewares.urllib2', 'pandas.errors', 'w3lib.http', 'twisted.internet._baseprocess', 'scrapy.extensions', 'functools32._functools', 'pandas.core.pandas', 'prompt_toolkit.io', 'w3lib.warnings', 'concurrent.futures.concurrent', 'twisted.internet.threading', 'pytz.lazy', 'scrapy.core.downloader.time', 'scrapy.spiders.scrapy', 'w3lib.re', 'prompt_toolkit.wcwidth', 'lxml.etree', 'jupyter_client.datetime', 'traitlets.utils.sentinel', 'ptyprocess.os', 'scrapy.spiders.warnings', 'scrapy.utils.six', 'zope.interface.verify', 'matplotlib.rcsetup', 'twisted.protocols.policies', 'scrapy.extensions.os', 'attr._funcs', 'scrapy.crawler', 'email.urllib', 'pandas.core.indexes.accessors', 'zmq.sugar.sys', 'httplib', 'IPython.terminal.interactiveshell', 'zmq.backend.cython.context', 'token', 'queuelib.collections', 'prompt_toolkit.auto_suggest', 'functools32.sys', 'ptyprocess.fcntl', 'email.codecs', 'twisted.internet.default', 'ipywidgets.widgets.itertools', 'six.moves.urllib.parse', 'multiprocessing.process', 'pandas.core.tools.collections', 'pyasn1.sys', 'IPython.core.__future__', 'zmq.utils.strtypes', 'IPython.core.binascii', 'IPython.core.interactiveshell', 'ipykernel.kernelbase', 'twisted.logger._format', 'ipykernel.errno', 'matplotlib.cbook', 'IPython.core.importlib', 'ast', 'dateutil.tz.six', 'IPython.lib.sys', 'zmq.utils.constant_names', 'pandas.tseries.dateutil', 'ctypes.struct', 'incremental._version', 'asn1crypto.parser', 'cryptography.x509.general_name', '_scproxy', 'prompt_toolkit.pygments', 'pandas.core.distutils', 'IPython.core.logging', 'thread', 'pandas.compat.functools', 'twisted.conch.manhole', 'lxml.html.collections', 'jupyter_client.jupyter_client', 'zmq.backend.platform', 'multiprocessing.util', 'twisted._threads._convenience', '_collections', 'prompt_toolkit.mouse_events', 'prompt_toolkit.key_binding.bindings.__future__', 'pydispatch.robustapply', 'jupyter_client.binascii', 'pandas.compat.httplib', 'pyasn1.codec.cer.pyasn1', 'asn1crypto._teletex_codec', 'ipywidgets.widgets.widget_date', 'ipykernel.warnings', 'email.Errors', 'scrapy.extensions.closespider', 'IPython.utils.locale', 'ctypes.sys', 'pygments.lexers.__future__', 'posixpath', 'pandas.compat.pandas', 'twisted.python._tzhelper', 'cryptography.utils', 'prompt_toolkit.filters.cli', 'scrapy.utils.copy', 'jupyter_client.blocking', 'asn1crypto._elliptic_curve', 'IPython.core.linecache', 'json._json', 'twisted.internet.sys', 'pandas.tseries.datetime', 'scrapy.http.response.text', 'traitlets.contextlib', 'ipykernel.comm.sys', 'zope.interface._zope_interface_coptimizations', 'dateutil.parser.calendar', 'concurrent.futures.multiprocessing', 'zmq.sugar.socket', 'prompt_toolkit.styles.collections', 'ipykernel.comm.logging', 'ipython_genutils.shutil', 'hashlib', 'scrapy.utils.pkgutil', 'twisted.python._textattributes', 'numpy.lib.nanfunctions', 'attr._config', 'scrapy.http.response', 'scrapy.utils.conf', 'IPython.core.hashlib', 'pandas.core.arrays.textwrap', 'ipykernel.connect', 'idna.re', 'pandas._libs.tslibs', 'sre_compile', 'dateutil.tz._factories', 'twisted.logger._legacy', 'IPython.utils.ulinecache', 'pandas.tseries.pandas', 'twisted.logger.constantly', 'IPython.core.bdb', 'logging.collections', 'email.base64', 'encodings.string_escape', 'multiprocessing.atexit', 'dateutil._version', 'bz2', 'cryptography.hazmat.primitives.asymmetric.dsa', 'pyasn1.type.namedtype', 'prompt_toolkit.terminal.errno', 'pandas.plotting._misc', 'curses.curses', 'IPython.core.completer', 'scrapy.utils.cssselect', 'ipykernel.io', 'IPython.utils.re', 'scrapy.downloadermiddlewares.cookies', 'encodings.ascii', 'IPython.utils.inspect', 'zmq.backend.cython.sys', 'ipywidgets.widgets.base64', 'prompt_toolkit.clipboard.__future__', 'scrapy.selector.warnings', 'json.sys', 'scrapy.spiders.six', 'zmq.backend.cython.warnings', 'concurrent.futures.sys', 'prompt_toolkit.layout.margins', 'ipykernel.comm', 'pydispatch.errors', 'numpy.linalg.linalg', 'prompt_toolkit.terminal.six', 'scrapy.core.scrapy', 'jupyter_client.pprint', 'service_identity._compat', 'logging.os', 'ctypes._endian', 'ptyprocess.termios', 'unittest.pprint', 'xml.sax.io', 'pandas.core.util.itertools', 'ipykernel.numbers', 'ipywidgets.widgets.ipython_genutils', 'scrapy.utils.reactor', 'twisted.conch.insults', 'six.moves.urllib.request', 'numpy.linalg', 'constantly.constantly', 'asn1crypto.algos', 'pandas.core.re', 'scrapy.pkgutil', 'prompt_toolkit.styles.defaults', 'prompt_toolkit.buffer_mapping', 'pygments.sys', 'prompt_toolkit.terminal.termios', 'twisted.python.reflect', 'ipykernel.traceback', 'IPython.core.payload', 'six.moves.configparser', 'parsel.cssselect', '_lsprof', 'prompt_toolkit.eventloop.__future__', 'IPython.utils._tokenize_py2', 'IPython.utils.hashlib', 'w3lib.six', 'pathlib2.re', 'IPython.utils.IPython', 'prompt_toolkit.keys', 'twisted.internet.abstract', 'ipykernel.comm.manager', 'cssselect.cssselect', 'dateutil.tz.functools', 'numpy.fft.helper', 'pathlib2.errno', 'pyasn1.type.namedval', 'pandas.io.formats.os', 'pytz.tzfile', 'pandas.compat.distutils', 'jupyter_client.errno', 'locale', 'prompt_toolkit.document', 'pandas.compat.__builtin__', 'atexit', 'email.quopriMIME', 'IPython.core.autocall', 'IPython.core.sys', 'twisted.web.http', 'matplotlib._color_data', 'pandas.core.arrays.base', 'matplotlib.cbook.deprecation', 'traitlets.sys', 'dateutil', 'traitlets.utils.bunch', 'backports.shutil_get_terminal_size.get_terminal_size', 'scrapy.pipelines.scrapy', 'concurrent.futures.itertools', 'twisted.conch.sys', 'twisted.internet.os', 'pygments.StringIO', 'ctypes.subprocess', 'unittest.suite', 'ftplib', 'scrapy.signalmanager', 'pandas.core.indexes.timedeltas', 'ctypes.macholib.itertools', 'pandas.compat.chainmap_impl', 'pandas.compat', 'w3lib.posixpath', 'traitlets.config.application', 'jupyter_client.socket', 'prompt_toolkit.key_binding.bindings', 'prompt_toolkit.filters.base', 'IPython.utils.decorators', 'numpy.fft.fftpack', 'mmap', 'traitlets.config.six', 'pdb', 'IPython.terminal.signal', 'twisted.web.zope', 'numpy.testing._private.nosetester', 'scrapy.utils.posixpath', 'scrapy.utils.functools', 'zmq.eventloop.zmqstream', 'pandas.compat.platform', 'dateutil.parser.re', 'scrapy.spidermiddlewares.logging', 'unittest.collections', 'IPython.lib.__future__', 'jupyter_client.manager', 'ipykernel.tornado', 'numpy.testing', 'logging.struct', 'ipykernel.threading', 'prompt_toolkit.filters.prompt_toolkit', 'twisted.internet.time', 'scrapy.downloadermiddlewares.scrapy', 'ipykernel.platform', 'pandas.compat.numpy', 'ptyprocess.shutil', 'idna.bisect', 'ipykernel.parentpoller', 'matplotlib.cbook._backports', 'twisted.python.keyword', 'twisted.logger._global', 'scrapy.core.downloader.OpenSSL', 'cryptography.hazmat.bindings.openssl', 'concurrent.futures.logging', 'prompt_toolkit.textwrap', 'pandas.core.util.hashing', 'pandas.io.formats.pandas', 'w3lib.base64', 'IPython.terminal.prompt_toolkit', 'email.base64MIME', 'twisted.internet.errno', 'copy_reg', 'zope.interface.warnings', 'scrapy.spidermiddlewares.referer', 'IPython.utils.linecache', 'ipywidgets.widgets.widget_selectioncontainer', 'IPython.core.shutil', 'ipython_genutils.string', 'prompt_toolkit.search_state', 'IPython.utils.platform', 'dateutil.parser.datetime', 'prompt_toolkit.clipboard.collections', 'zmq.sugar.zmq', 'IPython.lib.logging', 'ipykernel.zmqshell', 'pandas.plotting', 'sqlite3', 'pandas.core.common', 'curses.os', 'IPython.core.magics.pprint', 'wcwidth.__future__', 'IPython.core.types', 'sys', 'prompt_toolkit.filters.six', 'xml.sax.sys', 'scrapy.core.downloader.handlers.zope', 'scrapy.utils.importlib', 'pandas.core.indexes.base', 'prompt_toolkit.output', 'numpy.lib.arraypad', 'prompt_toolkit.layout.re', 'scrapy.core.downloader.handlers.io', 'IPython.core.application', 'ipykernel._version', 'IPython.core.magics.io', 'prompt_toolkit.key_binding.registry', 'prompt_toolkit.key_binding.prompt_toolkit', 'IPython.core.time', 'ipykernel.iostream', 'ptyprocess.struct', 'pyasn1.type.tag', 'IPython.core.oinspect', 'service_identity.pyopenssl', 'email.mime', 'zmq.backend.cython.constants', 'pandas.core.gc', 'scrapy.io', 'twisted.logger._filter', 'pyasn1_modules.rfc2459', 'pandas.core.weakref', 'pygments.styles.default', 'jupyter_client.cPickle', 'logging.socket', 'scrapy.utils.sys', 'backports.shutil_get_terminal_size.ctypes', 'zipimport', 'pandas.plotting._compat', 'pathlib2.functools', 'email.FeedParser', 'twisted.conch.insults.re', 'traitlets.config.re', 'IPython.lib.random', 'ipykernel.codeutil', 'signal', 'scrapy.downloadermiddlewares.useragent', 'scrapy.core.twisted', 'pyasn1.type.sys', 'IPython.core.json', 'quopri', 'distutils.version', 'google', 'scrapy.core.downloader.handlers.logging', 'cryptography.hazmat.backends', 'queuelib.os', 'xml.parsers.expat', 'dateutil.tz.sys', 'prompt_toolkit.key_binding.bindings.emacs', 'zmq.backend.cython.copy', 'IPython.utils.module_paths', 'IPython.utils.timing', 'scrapy.utils.pydispatch', 'traitlets.utils.getargspec', 'ipywidgets.widgets.widget_core', 'warnings', 'pandas.util.pandas', 'pandas.core.warnings', 'w3lib.encoding', 'scrapy.spidermiddlewares.offsite', 'ipython_genutils', 'glob', 'cgi', 'IPython.utils.subprocess', 'jupyter_client.abc', 'scrapy.extensions.memusage', 'jupyter_client.dateutil', 'IPython.utils.syspathcontext', 'UserDict', 'tornado.escape', 'pyasn1.type.char', 'IPython.terminal.wcwidth', 'attr.exceptions', 'dateutil.calendar', 'unittest.loader', 'pandas._libs.tslibs.pytz', 'zmq.sugar.version', 'backports.shutil_get_terminal_size', 'pexpect.signal', 'scrapy.spidermiddlewares.re', 'IPython.core.magics.osm', 'ipykernel.copy', '__future__', 'pandas.core.groupby.functools', 'traitlets.utils.functools', 'scrapy.utils.webbrowser', 'IPython.core.__main__', 'scrapy._monkeypatches', 'numpy.ma.core', 'pandas.core.internals', 'zope.interface.sys', 'pathlib2.collections', 'zmq.backend.cython.random', 'pandas.plotting.datetime', 'errno', 'twisted._threads._ithreads', 'pandas.compat.dateutil', 'prompt_toolkit.clipboard.in_memory', 'pygments.itertools', 'scrapy.email', 'scrapy.core.downloader.handlers.warnings', 'numpy.lib.histograms', 'multiprocessing._multiprocessing', 'pandas.core.algorithms', 'prompt_toolkit.key_binding.__future__', 'IPython.utils.text', 'encodings.__builtin__', 'jupyter_client.hmac', 'ipywidgets.widgets.re', 'prompt_toolkit.layout.math', 'unittest.fnmatch', 'email.os', 'zmq.sugar.stopwatch', 'pwd', 'scrapy.signals', 'prompt_toolkit.key_binding.collections', '_sysconfigdata', '_struct', 'prompt_toolkit.filters.weakref', 'uu', 'twisted.python.threadable', 'prompt_toolkit.filters.types', 'numpy.polynomial.chebyshev', 'ipywidgets.widgets.inspect', 'multiprocessing.signal', 'jupyter_client.hashlib', 'pandas.compat.itertools', 'logging.codecs', '_random', 'twisted.python.__future__', 'scrapy.http.request.form', 'IPython.core.extensions', 'pandas.io.formats.shutil', 'parsel', 'concurrent.futures.thread', 'pandas.core.sorting', 'pandas.core.tools.numpy', 'pandas.core.groupby.datetime', 'IPython.utils.importstring', 'dateutil.parser.decimal', 'scrapy.utils.python', 'scrapy.logformatter', 'scrapy', 'scrapy.utils.__future__', 'scrapy.responsetypes', 'pexpect.tty', 'IPython.core.codeop', 'ipykernel.types', 'dateutil.parser.functools', 'jupyter_client.kernelspec', 'jupyter_core', 'pyasn1.codec.ber', 'tornado.speedups', 'pandas.io.contextlib', 'backports.functools_lru_cache', 'cryptography.hazmat.primitives.serialization', 'numpy.matrixlib', 'pandas.util.textwrap', 'twisted.logger._logger', 'pandas.core.indexes.pytz', 'sitecustomize', 'traitlets.utils.importstring', 'ipywidgets.widgets.warnings', 'scrapy.utils.ftp', 'pandas.core.dtypes.datetime', 'scrapy.downloadermiddlewares.httpproxy', 'tornado.ioloop', 'tornado.platform.kqueue', 'ipython_genutils.py3compat', 'service_identity', 'ctypes.os', 'pexpect.select', 'gc', 'pandas._libs.tslibs.locale', 'pydispatch', 'pandas.plotting.math', 'traitlets.traitlets', 'base64', 'OpenSSL.warnings', 'scrapy.utils.ossignal', 'email.Header', 'pexpect.utils', 'dateutil.parser._parser', 'numpy.lib.arraysetops', 'twisted.web.http_headers', 'twisted.web._newclient', 'concurrent.futures.weakref', 'twisted.internet.error', 'twisted._version', 'traitlets.config.logging', 'IPython.utils.errno', 'IPython.core.debugger', 'twisted.protocols.twisted', 'jupyter_client.jsonutil', 'prompt_toolkit.eventloop', 'pandas.core.inspect', 'scrapy.squeues', 'IPython.utils.resource', 'w3lib.w3lib', 'logging.threading', 'ipykernel.importlib', 'twisted.logger._stdlib', 'idna.intranges', 'logging.io', 'IPython.utils.__future__', 'encodings.encodings', 'twisted.python.deprecate', 'matplotlib.cbook.textwrap', 'IPython.core.displaypub', 'bdb', 'dateutil.parser.warnings', 'numpy._globals', 'twisted.internet._signals', 'matplotlib.sys', 'pandas._libs.tslibs.dateutil', 'six.moves.urllib_parse', 'scrapy.utils.errno', 'ipykernel.serialize', 'prompt_toolkit.terminal', 'ipython_genutils.re', 'matplotlib', 'json.scanner', 'jupyter_client.blocking.functools', 'numpy.os', 'cryptography.hazmat.primitives', 'ipython_genutils.locale', 'prompt_toolkit.application', 'prompt_toolkit.terminal.prompt_toolkit', 'zmq.eventloop.warnings', 'pandas.core.textwrap', 'concurrent.futures.atexit', 'scrapy.utils.warnings', 'twisted.web.error', 'asn1crypto.version', 'twisted.plugin', 'pandas._libs.tslibs.StringIO', 'IPython.utils.dir2', 'jupyter_client.os', '_sre', 'pygments.formatters.html', 'pandas.core.numpy', 'traitlets.types', 'unittest.runner', 'prompt_toolkit.clipboard.prompt_toolkit', 'IPython.core.display_trap', 'prompt_toolkit.key_binding.bindings.prompt_toolkit', 'pandas._libs.decimal', 'binascii', 'pyasn1.logging', 'twisted.logger.time', 'cryptography.hazmat.bindings.openssl._conditional', 'IPython.core.logger', 'IPython.core.profiledir', 'pygments.formatters.sys', 'prompt_toolkit.clipboard', 'pyasn1.type.error', 'pyasn1.error', 'OpenSSL.functools', 'incremental.incremental', 'functools32', 'zmq.eventloop.tornado', 'IPython.core.page', 'traitlets.six', 'pandas.pandas', 'jupyter_client.blocking.__future__', 'scrapy.extensions.logging', 'lxml.html', 'sre_parse', 'numpy.lib._version', 'scrapy.http.request.six', 'pandas._libs.sparse', 'ipykernel.collections', 'IPython.terminal.debugger', 'IPython.core.magics.signal', '_scandir', 'lxml.html.defs', 'traitlets.inspect', 'scrapy.core.downloader.six', 'ipywidgets.widgets.widget_selection', 'scrapy.item', 'twisted.python.zippath', 'six', 'pandas._libs.tslibs.datetime', 'cryptography.x509.oid', 'pandas._libs.index', 'prompt_toolkit.input', 'scrapy.settings.os', 'pandas.core.groupby.warnings', 'ctypes.util', 'dateutil._common', 'scrapy.settings.pprint', 'ipywidgets.widgets.widget_link', 'scrapy.utils.ftplib', 'jupyter_client.multikernelmanager', 'multiprocessing.sys', 'scrapy.interfaces', 'IPython.core.pdb', 'simplegeneric', 'scrapy.downloadermiddlewares.w3lib', 'email.string', 'pandas.compat.inspect', 'pygments.styles', 'twisted.internet.defer', 'twisted.python.runtime', 'pandas.core.util', 'email.mime.text', 'sysconfig', 'IPython.terminal.traitlets', 'pexpect.contextlib', 'sqlite3.collections', 'dateutil.tz.time', 'asn1crypto._errors', 'numpy.core.shape_base', 'tempfile', 'cryptography.x509', 'prompt_toolkit.layout.lexers', 'multiprocessing.itertools', 'scrapy.extensions.throttle', 'cryptography.hazmat._oid', 'pandas.core.sparse.warnings', 'pandas.core.copy', 'pandas._libs.lib', 'logging.logging', 'zope.interface.adapter', 'ipython_genutils._version', 'parsel.xpathfuncs', 'scrapy.settings', 'IPython.core.zipimport', 'pandas.compat.re', 'twisted.cred', 'pygments.unistring', 'scrapy.core.logging', 'numpy.lib._datasource', 'IPython.core.warnings', 'logging.handlers', 'dateutil.tz.datetime', 'prompt_toolkit.layout.prompt_toolkit', 'prompt_toolkit.key_binding.digraphs', 'OpenSSL.crypto', 'dateutil.operator', 'pydispatch.pydispatch', 'pygments.formatters.os', 'IPython.utils.warnings', 'IPython.core.magics.gc', 'cStringIO', 'numpy.polynomial', 'twisted.cred.credentials', 'scrapy.utils.gz', 'jupyter_client.re', 'traitlets.config.copy', 'twisted.internet._posixstdio', 'encodings', 'twisted.logger.types', 'scrapy.utils.gc', 'ipykernel.comm.uuid', 'zmq.sugar.poll', 'IPython.core.operator', 'IPython.core.crashhandler', 'numpy.lib.numpy', 'prompt_toolkit.threading', 'pandas.core.dtypes.missing', 'scrapy.csv', 'sqlite3.time', 'math', 'ipykernel.comm.comm', 'ipywidgets.widgets.numbers', 'scrapy.http.common', 'twisted.twisted', 'dateutil.parser.isoparser', 'IPython.utils.colorable', 'zope.interface.weakref', 'scrapy.http', 'prompt_toolkit.layout.containers', 'pandas.plotting._style', 'prompt_toolkit.key_binding.input_processor', 'asn1crypto.keys', 'ipywidgets.widgets.widget_controller', 'pandas._libs.missing', 'constantly.sys', 'IPython.core.builtin_trap', 'pydispatch.dispatcher', 'scrapy.utils.io', 'scrapy.extensions.telnet', 'pyasn1.compat.dateandtime', 'ipykernel.jupyter_core', 'w3lib.url', 'pandas.util.functools', 'numpy.lib.twodim_base', 'pandas._libs.numbers', 'pandas.compat.chainmap', 'pygments.filter', '_LWPCookieJar', 'scrapy.selector.unified', 'jupyter_client.channels', 'pandas.io.urllib', 'traitlets.logging', 'numpy.lib.stride_tricks', 'queuelib', 'ipywidgets.widgets.widget_string', 'matplotlib.cbook.functools', 'xml.sax.os', 'ipykernel.jupyter_client', 'scrapy.spidermiddlewares', 'enum.collections', 'numpy.__config__', 'pandas.tseries.pytz', 'cryptography.__about__', 'ipykernel.datetime', 'prompt_toolkit', 'zmq.error', 'pandas.core.groupby.numpy', '_csv', 'xml.sax.saxutils', 'OpenSSL.sys', 'ipykernel.IPython', 'pydispatch.traceback', 'pandas.core.indexes.range', 'ipykernel', '_hashlib', 'zmq.eventloop.cPickle', 'IPython.core.sqlite3', 'scrapy.exporters', 'pandas.core.indexes.period', 'pygments.__future__', 'scrapy.http.scrapy', 'pytz.struct', 'prompt_toolkit.string', 'pexpect.pty', 'dateutil.parser', 'service_identity._common', 'encodings.codecs', 'IPython.utils.__builtin__', 'scrapy.core.os', 'pandas.core.util.pandas', 'IPython.core.magics', 'ipywidgets.widgets.json', '_ssl', 'IPython.utils.sys', 'pathlib2.operator', 'IPython.core.base64', 'ipython_genutils.text', 'IPython.core.shellapp', 'prompt_toolkit.selection', 'pandas.core.indexes.datetime', 'unittest.os', '_io', '_strptime', 'IPython.core.compilerop', 'pandas.io.urlparse', 'pandas.plotting.__future__', 'scrapy.http.request.parsel', 'prompt_toolkit.key_binding.bindings.named_commands', 'ipywidgets.widgets.traitlets', 'unittest.types', 'zmq.sugar.warnings', 'IPython.extensions.storemagic', 'asn1crypto.sys', 'prompt_toolkit.key_binding.vi_state', 'pyparsing', 'ipykernel.copy_reg', 'numpy.random.mtrand', 'importlib', 'prompt_toolkit.styles.from_pygments', 'twisted.conch.insults.insults', 'pandas.compat.numpy.re', 'ipykernel.logging', 'ipython_genutils.importstring', 'logging.thread', 'scrapy.signal', 'scrapy.resolver', 'scrapy.utils', 'parsel.csstranslator', 'prompt_toolkit.history', 'pathlib2', 'scrapy.core.json', 'traitlets.config.__future__', 'distutils.re', 'IPython.os', 'pygments.lexer', 'cookielib', 'pandas.io.os', 'scrapy.link', 'bisect', 'prompt_toolkit.terminal.__future__', 'email.MIMEImage', 'pandas._libs.tslibs.frequencies', 'traitlets.ipython_genutils', 'zmq.ctypes', 'cryptography.hazmat.bindings._constant_time', 'scrapy.downloadermiddlewares.defaultheaders', 'cycler', 'IPython.core.textwrap', 'queuelib.queue', 'pandas.core.dtypes.base', 'ptyprocess.sys', 'pandas.core.groupby.pandas', 'zmq.backend.cython.message', 'tornado.log', 'email.MIMEText', 'six.moves.email_mime_text', 'numpy.polynomial.legendre', 'email', 'ipywidgets.widgets.collections', 'IPython.lib.io', 'pygments.plugin', 'prompt_toolkit.layout.controls', 'IPython.core.magics.re', 'ipython_genutils.functools', 'scrapy.utils.numbers', 'scrapy.queuelib', 'cryptography.hazmat.bindings._openssl', 'itertools', 'scrapy.dupefilters', 'IPython.core.magics.subprocess', 'IPython.extensions.os', 'zmq.errno', 'pandas.compat.numpy.function', 'scrapy.extensions.socket', 'xml.parsers', 'pygments', 'scrapy.utils.parsel', 'curses._curses', 'prompt_toolkit.signal', 'pandas.core.tools.datetime', 'IPython.core.tokenize', 'ipywidgets.widgets.widget_style', 'IPython.utils.sentinel', 'pandas.tseries.operator', 'IPython.core.magics.warnings', 'json', 'functools32.weakref', 'grp', 'twisted.logger._json', 'IPython.core.inputsplitter', 'prompt_toolkit.sys', 'ipywidgets.widgets', 'pandas.core', 'termios', 'numpy.ma', 'IPython.IPython', '_cffi_backend', 'pandas.core.dtypes', 'pathlib2.scandir', 'email.email', 'prompt_toolkit.functools', 'pandas.io.formats.printing', 'numpy.lib', 'pyasn1.codec.cer', 'jupyter_client.blocking.client', 'ipython_genutils.__builtin__', 'pyasn1_modules.pyasn1', 'multiprocessing.weakref', 'pandas.core.base', 'distutils.distutils', 'ipykernel.kernelapp', 'site', 'twisted.protocols.tls', 'jupyter_client.io', 'IPython.core.pygments', 'twisted.logger._io', 'twisted.python.versions', 'scrapy.http.w3lib', 'IPython.testing.skipdoctest', 'email.binascii', 'pandas.io.pandas', 'email.mime.nonmultipart', 'IPython.utils.data', 'numpy.polynomial.polyutils', 'w3lib.collections', 'pathlib2.stat', 'numpy.compat._inspect', 'pyasn1.compat.time', 'pandas.core.indexes.warnings', 'email.cStringIO', 'email.mime.email', 'pandas.core.itertools', 'pandas.core.__future__', 'scrapy.abc', 'pygments.formatters.__future__', 'difflib', 'distutils.errors', 'scrapy.spidermiddlewares.warnings', 'IPython.lib.threading', 'IPython.core.decorator', 'unittest.warnings', 'prompt_toolkit.layout.processors', 'pandas.plotting.distutils', 'xml.sax.urlparse', 'pyasn1.compat.sys', 'pytz.threading', 'numpy.core.einsumfunc', 'zmq.backend.cython.socket', 'IPython.terminal.pt_inputhooks.os', 'scrapy.downloadermiddlewares.zlib', 'zmq.sugar.attrsettr', 'ipywidgets.widgets.widget_description', 'parsel.selector', 'jupyter_client.shutil', 'jupyter_client.logging', 'prompt_toolkit.key_binding', 'logging.config', 'zope.interface.zope', 'numpy.lib.index_tricks', 'pytz.os', 'ipython_genutils.encoding', 'cryptography.hazmat.primitives.hashes', 'zmq.platform', 'pyasn1.type.constraint', 'pandas.core.datetime', 'scrapy.settings.collections', 'numpy.linalg._umath_linalg', 'prompt_toolkit.interface', 'pyasn1.type.opentype', 'numpy.random.operator', 'pyasn1_modules', 'prompt_toolkit.re', 'pandas.io.csv', 'OpenSSL.six', 'twisted.conch.tokenize', 'twisted.web', 'ipykernel.sys', 'pygments.lexers.types', 'IPython.lib.display', 'pandas._libs.tslibs.collections', 'twisted.logger.collections', 'matplotlib.compat.subprocess', 'IPython.utils.token', 'pygments.codecs', 'pygments.style', '_multiprocessing', 'pandas.core.dtypes.inference', 'backports', 'jupyter_client.warnings', 'IPython.core.magics.traitlets', 'twisted.python.lockfile', 'ipython_genutils.warnings', 'idna.core', 'IPython.core.itertools', 'enum', 'zmq.sugar.random', 'IPython.core.magics.extension', 'ipywidgets.widgets.widget_int', 'prompt_toolkit.time', 'logging.sys', 'pexpect.re', '_functools', 'OpenSSL.os', 'socket', 'pathlib2.ntpath', 'scrapy.spiderloader', 'ipykernel.socket', 'IPython.core.pylabtools', 'ipywidgets.widgets.widget_bool', 'prompt_toolkit.datetime', 'pyasn1.compat.calling', 'prompt_toolkit.styles', 'scrapy.utils.deprecate', 'OpenSSL.version', '__builtin__', 'prompt_toolkit.cache', 'xml.sax.xmlreader', 'scrapy.spidermiddlewares.six', 'json.struct', 'pandas.core.json', 'pygments.token', 'scrapy.utils.spider', 'multiprocessing.threading', 'pathlib2.os', 'numpy.core._methods', 'cryptography.exceptions', 'pytz.sys', 'prompt_toolkit.terminal.re', 'IPython.core.magics.sys', 'jupyter_client.adapter', 'scrapy.utils.gzip', 'jupyter_client.ipython_genutils', 'cssselect.parser', 'functools32.collections', 'scrapy.downloadermiddlewares.downloadtimeout', 'pandas.io.urllib2', 'scrapy.utils.versions', 'ipykernel.ipkernel', 'IPython.core.functools', 'scrapy.pprint', 'IPython.terminal.pygments', 'jupyter_client.subprocess', 'logging.time', 'email.mime.base', 'numpy.lib.function_base', 'logging.warnings', 'IPython.tempfile', 'pandas._libs.ops', 'pygments.re', 'scrapy.utils.operator', 'numpy.polynomial.hermite', 'contextlib', 'twisted.conch.string', 'IPython.lib.pretty', 'prompt_toolkit.layout.toolbars', 'IPython.utils.string', 'getopt', 'zmq.sugar.time', 'ipython_genutils.types', 'ipywidgets._version', 'stat', 'scrapy.core.downloader.twisted', 'twisted.internet.process', 'email.Encoders', 'cryptography.hazmat.primitives.asymmetric.rsa', 'scrapy.core.downloader.handlers.scrapy', 'pandas._libs.sys', 'encodings.unicodedata', 'pandas._libs.tslibs.numpy', 'xmlrpclib', 'ipywidgets.widgets.IPython', 'scrapy.utils.decorators']\n"
     ]
    },
    {
     "name": "stdout",
     "output_type": "stream",
     "text": [
      "                                        name       price\n",
      "0       Pantalla LG 65\" UHD Smart TV 65UJ630  $21,995.00\n",
      "1        Pantalla LG 55\" UHD Smart TV 55UJ63  $12,995.00\n",
      "2       Pant SANSUI 50 \" SMX5019USM 4K Smart   $7,295.00\n",
      "3                Pant JVC 49 \" SI49FSC Curva   $8,295.00\n",
      "4    Pantalla Samsung 43\" Smart TV LH43SEJBG   $6,995.00\n",
      "5           Pantalla JVC 43\" Smart TV SI43FS   $6,295.00\n",
      "6              Televisor Sansui 32\"  SMX32Z1   $2,795.00\n",
      "7    Consola Xbox One S + Assassin's Creed +   $7,295.00\n",
      "8              Bafle AIWA 8'' AW908 50 Watts   $1,395.00\n",
      "9       Autoestereo AIWA AW-3239BT Bluetooth   $1,045.00\n",
      "10          Lavadora Mabe 19Kg. LMH79104WBAB   $8,990.00\n",
      "11  Secadora Mabe SMG47N8MSBAB0 22 Kg Blanca  $10,795.00\n",
      "12        Refrigerador Daewoo 16p3 44520GNDA  $10,295.00\n",
      "13                 Estufa IEM EI3030BAPN 30\"   $4,995.00\n",
      "14       Asador Home Line de Carbón BB02543U   $3,995.00\n",
      "15           Mesa para TV Home Line FII0761R   $2,295.00\n",
      "16   Muñeca Baby Alive Bebé Va Al Baño Rubia   $1,399.00\n",
      "17   Pista Hotwheels Cobra Trituradora FNB20     $499.00\n",
      "18   Muñeca Lol Surprise Lil Sisters Asst 12     $219.00\n",
      "19            Set Barbie Chef de Pizza FHR09     $599.00\n",
      "20           Figura Lol Surprise Pets 144050     $289.00\n",
      "21  Set Crayola Fabricante D Marcador 747054     $449.00\n",
      "22           Set Barbie Hospital Móvil FRM19     $999.00\n",
      "23  Muñeca Famosa Nenuco 3 Funciones Surtido     $199.00\n",
      "24   Muñeco Lol Surprise Confetti Pop 146680     $379.00\n",
      "25    Mundo FisherPrice de Aprendizaje DRJ93     $294.00\n",
      "26  Muñeca Barbie Movimientos Divertid FTG80     $299.00\n",
      "27    Figura TPZ Twisty Petz 4 figuras Bebés     $249.00\n",
      "28        Gimnasio Fisherprice Etapas Ccb70      $899.00\n",
      "29      Set Barbie Cocina y Diviértete FRH73     $999.00\n"
     ]
    }
   ],
   "source": [
    "import pandas as pd\n",
    "\n",
    "df = pd.read_json(\"chedraui.json\")\n",
    "\n",
    "print(df)"
   ]
  },
  {
   "cell_type": "code",
   "execution_count": 9,
   "metadata": {},
   "outputs": [
    {
     "name": "stdout",
     "output_type": "stream",
     "text": [
      "                                        name       price  price_number\n",
      "0       Pantalla LG 65\" UHD Smart TV 65UJ630  $21,995.00       21995.0\n",
      "1        Pantalla LG 55\" UHD Smart TV 55UJ63  $12,995.00       12995.0\n",
      "2       Pant SANSUI 50 \" SMX5019USM 4K Smart   $7,295.00        7295.0\n",
      "3                Pant JVC 49 \" SI49FSC Curva   $8,295.00        8295.0\n",
      "4    Pantalla Samsung 43\" Smart TV LH43SEJBG   $6,995.00        6995.0\n",
      "5           Pantalla JVC 43\" Smart TV SI43FS   $6,295.00        6295.0\n",
      "6              Televisor Sansui 32\"  SMX32Z1   $2,795.00        2795.0\n",
      "7    Consola Xbox One S + Assassin's Creed +   $7,295.00        7295.0\n",
      "8              Bafle AIWA 8'' AW908 50 Watts   $1,395.00        1395.0\n",
      "9       Autoestereo AIWA AW-3239BT Bluetooth   $1,045.00        1045.0\n",
      "10          Lavadora Mabe 19Kg. LMH79104WBAB   $8,990.00        8990.0\n",
      "11  Secadora Mabe SMG47N8MSBAB0 22 Kg Blanca  $10,795.00       10795.0\n",
      "12        Refrigerador Daewoo 16p3 44520GNDA  $10,295.00       10295.0\n",
      "13                 Estufa IEM EI3030BAPN 30\"   $4,995.00        4995.0\n",
      "14       Asador Home Line de Carbón BB02543U   $3,995.00        3995.0\n",
      "15           Mesa para TV Home Line FII0761R   $2,295.00        2295.0\n",
      "16   Muñeca Baby Alive Bebé Va Al Baño Rubia   $1,399.00        1399.0\n",
      "17   Pista Hotwheels Cobra Trituradora FNB20     $499.00         499.0\n",
      "18   Muñeca Lol Surprise Lil Sisters Asst 12     $219.00         219.0\n",
      "19            Set Barbie Chef de Pizza FHR09     $599.00         599.0\n",
      "20           Figura Lol Surprise Pets 144050     $289.00         289.0\n",
      "21  Set Crayola Fabricante D Marcador 747054     $449.00         449.0\n",
      "22           Set Barbie Hospital Móvil FRM19     $999.00         999.0\n",
      "23  Muñeca Famosa Nenuco 3 Funciones Surtido     $199.00         199.0\n",
      "24   Muñeco Lol Surprise Confetti Pop 146680     $379.00         379.0\n",
      "25    Mundo FisherPrice de Aprendizaje DRJ93     $294.00         294.0\n",
      "26  Muñeca Barbie Movimientos Divertid FTG80     $299.00         299.0\n",
      "27    Figura TPZ Twisty Petz 4 figuras Bebés     $249.00         249.0\n",
      "28        Gimnasio Fisherprice Etapas Ccb70      $899.00         899.0\n",
      "29      Set Barbie Cocina y Diviértete FRH73     $999.00         999.0\n"
     ]
    }
   ],
   "source": [
    "import re\n",
    "\n",
    "df[\"price_number\"] = df[\"price\"].map(lambda price: float(re.search(\"\\$(\\d+)\", price.replace(\",\", \"\")).group(1)))\n",
    "\n",
    "print(df)"
   ]
  },
  {
   "cell_type": "code",
   "execution_count": 10,
   "metadata": {},
   "outputs": [
    {
     "name": "stdout",
     "output_type": "stream",
     "text": [
      "                                        name       price  price_number\n",
      "1        Pantalla LG 55\" UHD Smart TV 55UJ63  $12,995.00       12995.0\n",
      "11  Secadora Mabe SMG47N8MSBAB0 22 Kg Blanca  $10,795.00       10795.0\n",
      "12        Refrigerador Daewoo 16p3 44520GNDA  $10,295.00       10295.0\n"
     ]
    }
   ],
   "source": [
    "df2 = df.query(\"price_number >= 10000 and price_number <= 15000\")\n",
    "\n",
    "print(df2)"
   ]
  }
 ],
 "metadata": {
  "kernelspec": {
   "display_name": "Python 2",
   "language": "python",
   "name": "python2"
  },
  "language_info": {
   "codemirror_mode": {
    "name": "ipython",
    "version": 2
   },
   "file_extension": ".py",
   "mimetype": "text/x-python",
   "name": "python",
   "nbconvert_exporter": "python",
   "pygments_lexer": "ipython2",
   "version": "2.7.15"
  }
 },
 "nbformat": 4,
 "nbformat_minor": 2
}
