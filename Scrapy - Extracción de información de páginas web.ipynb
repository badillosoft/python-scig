{
 "cells": [
  {
   "cell_type": "markdown",
   "metadata": {},
   "source": [
    "# Scrapy - Extracción de información de páginas web"
   ]
  },
  {
   "cell_type": "code",
   "execution_count": 1,
   "metadata": {},
   "outputs": [],
   "source": [
    "import scrapy\n",
    "from scrapy.crawler import CrawlerProcess"
   ]
  },
  {
   "cell_type": "code",
   "execution_count": 2,
   "metadata": {},
   "outputs": [],
   "source": [
    "import json\n",
    "\n",
    "class JsonWriterPipeline(object):\n",
    "\n",
    "    def open_spider(self, spider):\n",
    "        self.file = open('quoteresult.jl', 'w')\n",
    "\n",
    "    def close_spider(self, spider):\n",
    "        self.file.close()\n",
    "\n",
    "    def process_item(self, item, spider):\n",
    "        line = json.dumps(dict(item)) + \"\\n\"\n",
    "        self.file.write(line)\n",
    "        return item"
   ]
  },
  {
   "cell_type": "code",
   "execution_count": 3,
   "metadata": {},
   "outputs": [],
   "source": [
    "class ChedrauiSpider(scrapy.Spider):\n",
    "    name = \"chedraui\"\n",
    "    start_urls = [\"https://www.chedraui.com.mx/\"]\n",
    "    custom_settings = {\n",
    "        'ITEM_PIPELINES': {'__main__.JsonWriterPipeline': 1}, # Used for pipeline 1\n",
    "        'FEED_FORMAT':'json',                                 # Used for pipeline 2\n",
    "        'FEED_URI': 'chedraui.json'                        # Used for pipeline 2\n",
    "    }\n",
    "    def parse(self, response):\n",
    "        for product in response.css(\"div.carousel__item\"):\n",
    "            yield {\n",
    "                \"name\": product.css(\"a div.carousel__item--name::text\").extract_first(),\n",
    "                \"price\": product.css(\"a div.carousel__item--price::text\").extract_first()\n",
    "            }"
   ]
  },
  {
   "cell_type": "code",
   "execution_count": 4,
   "metadata": {},
   "outputs": [
    {
     "name": "stderr",
     "output_type": "stream",
     "text": [
      "2018-12-08 11:21:17 [scrapy.utils.log] INFO: Scrapy 1.5.1 started (bot: scrapybot)\n",
      "2018-12-08 11:21:17 [scrapy.utils.log] INFO: Versions: lxml 4.2.5.0, libxml2 2.9.8, cssselect 1.0.3, parsel 1.5.1, w3lib 1.19.0, Twisted 18.9.0, Python 2.7.15 (default, Aug  7 2018, 10:44:55) - [GCC 4.2.1 Compatible Apple LLVM 9.1.0 (clang-902.0.39.2)], pyOpenSSL 18.0.0 (OpenSSL 1.1.0j  20 Nov 2018), cryptography 2.4.2, Platform Darwin-18.2.0-x86_64-i386-64bit\n",
      "2018-12-08 11:21:17 [scrapy.crawler] INFO: Overridden settings: {'FEED_FORMAT': 'json', 'FEED_URI': 'chedraui.json', 'USER_AGENT': 'Mozilla/4.0 (compatible; MSIE 7.0; Windows NT 5.1)'}\n",
      "2018-12-08 11:21:17 [scrapy.middleware] INFO: Enabled extensions:\n",
      "['scrapy.extensions.feedexport.FeedExporter',\n",
      " 'scrapy.extensions.memusage.MemoryUsage',\n",
      " 'scrapy.extensions.logstats.LogStats',\n",
      " 'scrapy.extensions.telnet.TelnetConsole',\n",
      " 'scrapy.extensions.corestats.CoreStats']\n",
      "2018-12-08 11:21:17 [scrapy.middleware] INFO: Enabled downloader middlewares:\n",
      "['scrapy.downloadermiddlewares.httpauth.HttpAuthMiddleware',\n",
      " 'scrapy.downloadermiddlewares.downloadtimeout.DownloadTimeoutMiddleware',\n",
      " 'scrapy.downloadermiddlewares.defaultheaders.DefaultHeadersMiddleware',\n",
      " 'scrapy.downloadermiddlewares.useragent.UserAgentMiddleware',\n",
      " 'scrapy.downloadermiddlewares.retry.RetryMiddleware',\n",
      " 'scrapy.downloadermiddlewares.redirect.MetaRefreshMiddleware',\n",
      " 'scrapy.downloadermiddlewares.httpcompression.HttpCompressionMiddleware',\n",
      " 'scrapy.downloadermiddlewares.redirect.RedirectMiddleware',\n",
      " 'scrapy.downloadermiddlewares.cookies.CookiesMiddleware',\n",
      " 'scrapy.downloadermiddlewares.httpproxy.HttpProxyMiddleware',\n",
      " 'scrapy.downloadermiddlewares.stats.DownloaderStats']\n",
      "2018-12-08 11:21:17 [scrapy.middleware] INFO: Enabled spider middlewares:\n",
      "['scrapy.spidermiddlewares.httperror.HttpErrorMiddleware',\n",
      " 'scrapy.spidermiddlewares.offsite.OffsiteMiddleware',\n",
      " 'scrapy.spidermiddlewares.referer.RefererMiddleware',\n",
      " 'scrapy.spidermiddlewares.urllength.UrlLengthMiddleware',\n",
      " 'scrapy.spidermiddlewares.depth.DepthMiddleware']\n",
      "2018-12-08 11:21:17 [scrapy.middleware] INFO: Enabled item pipelines:\n",
      "['__main__.JsonWriterPipeline']\n",
      "2018-12-08 11:21:17 [scrapy.core.engine] INFO: Spider opened\n",
      "2018-12-08 11:21:17 [scrapy.extensions.logstats] INFO: Crawled 0 pages (at 0 pages/min), scraped 0 items (at 0 items/min)\n",
      "2018-12-08 11:21:17 [scrapy.extensions.telnet] DEBUG: Telnet console listening on 127.0.0.1:6023\n",
      "2018-12-08 11:21:23 [scrapy.core.engine] DEBUG: Crawled (200) <GET https://www.chedraui.com.mx/> (referer: None)\n",
      "2018-12-08 11:21:24 [scrapy.core.scraper] DEBUG: Scraped from <200 https://www.chedraui.com.mx/>\n",
      "{'price': u'$21,995.00', 'name': u'Pantalla LG 65\" UHD Smart TV 65UJ630'}\n",
      "2018-12-08 11:21:24 [scrapy.core.scraper] DEBUG: Scraped from <200 https://www.chedraui.com.mx/>\n",
      "{'price': u'$12,995.00', 'name': u'Pantalla LG 55\" UHD Smart TV 55UJ63'}\n",
      "2018-12-08 11:21:24 [scrapy.core.scraper] DEBUG: Scraped from <200 https://www.chedraui.com.mx/>\n",
      "{'price': u'$7,295.00', 'name': u'Pant SANSUI 50 \" SMX5019USM 4K Smart'}\n",
      "2018-12-08 11:21:24 [scrapy.core.scraper] DEBUG: Scraped from <200 https://www.chedraui.com.mx/>\n",
      "{'price': u'$8,295.00', 'name': u'Pant JVC 49 \" SI49FSC Curva'}\n",
      "2018-12-08 11:21:24 [scrapy.core.scraper] DEBUG: Scraped from <200 https://www.chedraui.com.mx/>\n",
      "{'price': u'$6,995.00', 'name': u'Pantalla Samsung 43\" Smart TV LH43SEJBG'}\n",
      "2018-12-08 11:21:24 [scrapy.core.scraper] DEBUG: Scraped from <200 https://www.chedraui.com.mx/>\n",
      "{'price': u'$6,295.00', 'name': u'Pantalla JVC 43\" Smart TV SI43FS'}\n",
      "2018-12-08 11:21:24 [scrapy.core.scraper] DEBUG: Scraped from <200 https://www.chedraui.com.mx/>\n",
      "{'price': u'$2,795.00', 'name': u'Televisor Sansui 32\"  SMX32Z1'}\n",
      "2018-12-08 11:21:24 [scrapy.core.scraper] DEBUG: Scraped from <200 https://www.chedraui.com.mx/>\n",
      "{'price': u'$7,295.00', 'name': u\"Consola Xbox One S + Assassin's Creed +\"}\n",
      "2018-12-08 11:21:24 [scrapy.core.scraper] DEBUG: Scraped from <200 https://www.chedraui.com.mx/>\n",
      "{'price': u'$1,395.00', 'name': u\"Bafle AIWA 8'' AW908 50 Watts\"}\n",
      "2018-12-08 11:21:24 [scrapy.core.scraper] DEBUG: Scraped from <200 https://www.chedraui.com.mx/>\n",
      "{'price': u'$1,045.00', 'name': u'Autoestereo AIWA AW-3239BT Bluetooth'}\n",
      "2018-12-08 11:21:24 [scrapy.core.scraper] DEBUG: Scraped from <200 https://www.chedraui.com.mx/>\n",
      "{'price': u'$8,990.00', 'name': u'Lavadora Mabe 19Kg. LMH79104WBAB'}\n",
      "2018-12-08 11:21:24 [scrapy.core.scraper] DEBUG: Scraped from <200 https://www.chedraui.com.mx/>\n",
      "{'price': u'$10,795.00', 'name': u'Secadora Mabe SMG47N8MSBAB0 22 Kg Blanca'}\n",
      "2018-12-08 11:21:24 [scrapy.core.scraper] DEBUG: Scraped from <200 https://www.chedraui.com.mx/>\n",
      "{'price': u'$10,295.00', 'name': u'Refrigerador Daewoo 16p3 44520GNDA'}\n",
      "2018-12-08 11:21:24 [scrapy.core.scraper] DEBUG: Scraped from <200 https://www.chedraui.com.mx/>\n",
      "{'price': u'$4,995.00', 'name': u'Estufa IEM EI3030BAPN 30\"'}\n",
      "2018-12-08 11:21:24 [scrapy.core.scraper] DEBUG: Scraped from <200 https://www.chedraui.com.mx/>\n",
      "{'price': u'$3,995.00', 'name': u'Asador Home Line de Carb\\xf3n BB02543U'}\n",
      "2018-12-08 11:21:24 [scrapy.core.scraper] DEBUG: Scraped from <200 https://www.chedraui.com.mx/>\n",
      "{'price': u'$2,295.00', 'name': u'Mesa para TV Home Line FII0761R'}\n",
      "2018-12-08 11:21:24 [scrapy.core.scraper] DEBUG: Scraped from <200 https://www.chedraui.com.mx/>\n",
      "{'price': u'$1,399.00', 'name': u'Mu\\xf1eca Baby Alive Beb\\xe9 Va Al Ba\\xf1o Rubia'}\n",
      "2018-12-08 11:21:24 [scrapy.core.scraper] DEBUG: Scraped from <200 https://www.chedraui.com.mx/>\n",
      "{'price': u'$499.00', 'name': u'Pista Hotwheels Cobra Trituradora FNB20'}\n",
      "2018-12-08 11:21:24 [scrapy.core.scraper] DEBUG: Scraped from <200 https://www.chedraui.com.mx/>\n",
      "{'price': u'$219.00', 'name': u'Mu\\xf1eca Lol Surprise Lil Sisters Asst 12'}\n",
      "2018-12-08 11:21:24 [scrapy.core.scraper] DEBUG: Scraped from <200 https://www.chedraui.com.mx/>\n",
      "{'price': u'$599.00', 'name': u'Set Barbie Chef de Pizza FHR09'}\n",
      "2018-12-08 11:21:24 [scrapy.core.scraper] DEBUG: Scraped from <200 https://www.chedraui.com.mx/>\n",
      "{'price': u'$289.00', 'name': u'Figura Lol Surprise Pets 144050'}\n",
      "2018-12-08 11:21:24 [scrapy.core.scraper] DEBUG: Scraped from <200 https://www.chedraui.com.mx/>\n",
      "{'price': u'$449.00', 'name': u'Set Crayola Fabricante D Marcador 747054'}\n",
      "2018-12-08 11:21:24 [scrapy.core.scraper] DEBUG: Scraped from <200 https://www.chedraui.com.mx/>\n",
      "{'price': u'$999.00', 'name': u'Set Barbie Hospital M\\xf3vil FRM19'}\n",
      "2018-12-08 11:21:24 [scrapy.core.scraper] DEBUG: Scraped from <200 https://www.chedraui.com.mx/>\n",
      "{'price': u'$199.00', 'name': u'Mu\\xf1eca Famosa Nenuco 3 Funciones Surtido'}\n",
      "2018-12-08 11:21:24 [scrapy.core.scraper] DEBUG: Scraped from <200 https://www.chedraui.com.mx/>\n",
      "{'price': u'$379.00', 'name': u'Mu\\xf1eco Lol Surprise Confetti Pop 146680'}\n",
      "2018-12-08 11:21:24 [scrapy.core.scraper] DEBUG: Scraped from <200 https://www.chedraui.com.mx/>\n",
      "{'price': u'$294.00', 'name': u'Mundo FisherPrice de Aprendizaje DRJ93'}\n",
      "2018-12-08 11:21:24 [scrapy.core.scraper] DEBUG: Scraped from <200 https://www.chedraui.com.mx/>\n",
      "{'price': u'$299.00', 'name': u'Mu\\xf1eca Barbie Movimientos Divertid FTG80'}\n",
      "2018-12-08 11:21:24 [scrapy.core.scraper] DEBUG: Scraped from <200 https://www.chedraui.com.mx/>\n",
      "{'price': u'$249.00', 'name': u'Figura TPZ Twisty Petz 4 figuras Beb\\xe9s'}\n",
      "2018-12-08 11:21:24 [scrapy.core.scraper] DEBUG: Scraped from <200 https://www.chedraui.com.mx/>\n",
      "{'price': u'$899.00', 'name': u'Gimnasio Fisherprice Etapas Ccb70\\xa0'}\n",
      "2018-12-08 11:21:24 [scrapy.core.scraper] DEBUG: Scraped from <200 https://www.chedraui.com.mx/>\n",
      "{'price': u'$999.00', 'name': u'Set Barbie Cocina y Divi\\xe9rtete FRH73'}\n",
      "2018-12-08 11:21:24 [scrapy.core.engine] INFO: Closing spider (finished)\n",
      "2018-12-08 11:21:24 [scrapy.extensions.feedexport] INFO: Stored json feed (30 items) in: chedraui.json\n",
      "2018-12-08 11:21:24 [scrapy.statscollectors] INFO: Dumping Scrapy stats:\n",
      "{'downloader/request_bytes': 234,\n",
      " 'downloader/request_count': 1,\n",
      " 'downloader/request_method_count/GET': 1,\n",
      " 'downloader/response_bytes': 36405,\n",
      " 'downloader/response_count': 1,\n",
      " 'downloader/response_status_count/200': 1,\n",
      " 'finish_reason': 'finished',\n",
      " 'finish_time': datetime.datetime(2018, 12, 8, 17, 21, 24, 261813),\n",
      " 'item_scraped_count': 30,\n",
      " 'log_count/DEBUG': 32,\n",
      " 'log_count/INFO': 8,\n",
      " 'memusage/max': 65875968,\n",
      " 'memusage/startup': 65875968,\n",
      " 'response_received_count': 1,\n",
      " 'scheduler/dequeued': 1,\n",
      " 'scheduler/dequeued/memory': 1,\n",
      " 'scheduler/enqueued': 1,\n",
      " 'scheduler/enqueued/memory': 1,\n",
      " 'start_time': datetime.datetime(2018, 12, 8, 17, 21, 17, 689379)}\n"
     ]
    },
    {
     "name": "stderr",
     "output_type": "stream",
     "text": [
      "2018-12-08 11:21:24 [scrapy.core.engine] INFO: Spider closed (finished)\n"
     ]
    }
   ],
   "source": [
    "process = CrawlerProcess({\n",
    "    'USER_AGENT': 'Mozilla/4.0 (compatible; MSIE 7.0; Windows NT 5.1)'\n",
    "})\n",
    "\n",
    "process.crawl(ChedrauiSpider)\n",
    "process.start()"
   ]
  },
  {
   "cell_type": "code",
   "execution_count": 5,
   "metadata": {},
   "outputs": [
    {
     "name": "stdout",
     "output_type": "stream",
     "text": [
      "{\"price\": \"$999.00\", \"name\": \"Set Barbie Cocina y Divi\\u00e9rtete FRH73\"}\r\n",
      "]"
     ]
    }
   ],
   "source": [
    "!tail -n 2 chedraui.json"
   ]
  },
  {
   "cell_type": "code",
   "execution_count": null,
   "metadata": {},
   "outputs": [],
   "source": []
  },
  {
   "cell_type": "code",
   "execution_count": null,
   "metadata": {},
   "outputs": [],
   "source": []
  }
 ],
 "metadata": {
  "kernelspec": {
   "display_name": "Python 2",
   "language": "python",
   "name": "python2"
  },
  "language_info": {
   "codemirror_mode": {
    "name": "ipython",
    "version": 2
   },
   "file_extension": ".py",
   "mimetype": "text/x-python",
   "name": "python",
   "nbconvert_exporter": "python",
   "pygments_lexer": "ipython2",
   "version": "2.7.15"
  }
 },
 "nbformat": 4,
 "nbformat_minor": 2
}
